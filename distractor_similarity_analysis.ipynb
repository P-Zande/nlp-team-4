{
 "cells": [
  {
   "cell_type": "code",
   "execution_count": null,
   "id": "35dd41a1",
   "metadata": {},
   "outputs": [],
   "source": [
    "# Run in Colab to install local packages\n",
    "!pip install datasets gensim sentence_transformers tqdm"
   ]
  },
  {
   "cell_type": "code",
   "execution_count": 10,
   "id": "6d6e5f2c",
   "metadata": {},
   "outputs": [],
   "source": [
    "import matplotlib.pyplot as plt\n",
    "import seaborn as sns\n",
    "import numpy as np\n",
    "import pandas as pd\n",
    "from sentence_transformers import SentenceTransformer, util\n",
    "from tqdm import tqdm\n",
    "from scipy.stats import ttest_ind\n",
    "\n",
    "import datasets\n",
    "import os"
   ]
  },
  {
   "cell_type": "code",
   "execution_count": 2,
   "id": "a3912657",
   "metadata": {},
   "outputs": [],
   "source": [
    "sciq = datasets.load_dataset(\"allenai/sciq\")"
   ]
  },
  {
   "cell_type": "code",
   "execution_count": 3,
   "id": "b887b21c",
   "metadata": {},
   "outputs": [],
   "source": [
    "train = sciq[\"train\"]"
   ]
  },
  {
   "cell_type": "code",
   "execution_count": 4,
   "id": "5cf04cce",
   "metadata": {},
   "outputs": [
    {
     "name": "stdout",
     "output_type": "stream",
     "text": [
      "{'question': 'What type of organism is commonly used in preparation of foods such as cheese and yogurt?', 'distractor3': 'viruses', 'distractor1': 'protozoa', 'distractor2': 'gymnosperms', 'correct_answer': 'mesophilic organisms', 'support': 'Mesophiles grow best in moderate temperature, typically between 25°C and 40°C (77°F and 104°F). Mesophiles are often found living in or on the bodies of humans or other animals. The optimal growth temperature of many pathogenic mesophiles is 37°C (98°F), the normal human body temperature. Mesophilic organisms have important uses in food preparation, including cheese, yogurt, beer and wine.'}\n"
     ]
    }
   ],
   "source": [
    "print(train[0])"
   ]
  },
  {
   "cell_type": "code",
   "execution_count": 2,
   "id": "cf0c323e",
   "metadata": {},
   "outputs": [
    {
     "data": {
      "text/html": [
       "<div>\n",
       "<style scoped>\n",
       "    .dataframe tbody tr th:only-of-type {\n",
       "        vertical-align: middle;\n",
       "    }\n",
       "\n",
       "    .dataframe tbody tr th {\n",
       "        vertical-align: top;\n",
       "    }\n",
       "\n",
       "    .dataframe thead th {\n",
       "        text-align: right;\n",
       "    }\n",
       "</style>\n",
       "<table border=\"1\" class=\"dataframe\">\n",
       "  <thead>\n",
       "    <tr style=\"text-align: right;\">\n",
       "      <th></th>\n",
       "      <th>id</th>\n",
       "      <th>case</th>\n",
       "      <th>support</th>\n",
       "      <th>answer</th>\n",
       "      <th>question</th>\n",
       "      <th>distractor1</th>\n",
       "      <th>distractor2</th>\n",
       "      <th>distractor3</th>\n",
       "    </tr>\n",
       "  </thead>\n",
       "  <tbody>\n",
       "    <tr>\n",
       "      <th>0</th>\n",
       "      <td>0</td>\n",
       "      <td>ground_truth</td>\n",
       "      <td>Oxidants and Reductants Compounds that are cap...</td>\n",
       "      <td>oxidants</td>\n",
       "      <td>Compounds that are capable of accepting electr...</td>\n",
       "      <td>antioxidants</td>\n",
       "      <td>Oxygen</td>\n",
       "      <td>residues</td>\n",
       "    </tr>\n",
       "    <tr>\n",
       "      <th>1</th>\n",
       "      <td>0</td>\n",
       "      <td>answer_given</td>\n",
       "      <td>Oxidants and Reductants Compounds that are cap...</td>\n",
       "      <td>oxidants</td>\n",
       "      <td>What are compounds that are capable of accepti...</td>\n",
       "      <td>acids</td>\n",
       "      <td>enzymes</td>\n",
       "      <td>reductants</td>\n",
       "    </tr>\n",
       "    <tr>\n",
       "      <th>2</th>\n",
       "      <td>1</td>\n",
       "      <td>ground_truth</td>\n",
       "      <td>But transgenic animals just have one novel gen...</td>\n",
       "      <td>clone</td>\n",
       "      <td>What term in biotechnology means a genetically...</td>\n",
       "      <td>adult</td>\n",
       "      <td>male</td>\n",
       "      <td>phenotype</td>\n",
       "    </tr>\n",
       "    <tr>\n",
       "      <th>3</th>\n",
       "      <td>1</td>\n",
       "      <td>answer_given</td>\n",
       "      <td>But transgenic animals just have one novel gen...</td>\n",
       "      <td>clone</td>\n",
       "      <td>What is a genetically exact copy of an organis...</td>\n",
       "      <td>replica</td>\n",
       "      <td>duplicate</td>\n",
       "      <td>replica</td>\n",
       "    </tr>\n",
       "    <tr>\n",
       "      <th>4</th>\n",
       "      <td>2</td>\n",
       "      <td>ground_truth</td>\n",
       "      <td>Figure 29.7 Vertebrata are characterized by th...</td>\n",
       "      <td>backbone</td>\n",
       "      <td>Vertebrata are characterized by the presence o...</td>\n",
       "      <td>Bones</td>\n",
       "      <td>Muscles</td>\n",
       "      <td>Thumbs</td>\n",
       "    </tr>\n",
       "    <tr>\n",
       "      <th>...</th>\n",
       "      <td>...</td>\n",
       "      <td>...</td>\n",
       "      <td>...</td>\n",
       "      <td>...</td>\n",
       "      <td>...</td>\n",
       "      <td>...</td>\n",
       "      <td>...</td>\n",
       "      <td>...</td>\n",
       "    </tr>\n",
       "    <tr>\n",
       "      <th>1756</th>\n",
       "      <td>996</td>\n",
       "      <td>answer_given</td>\n",
       "      <td>Short-period comets come from the Kuiper belt,...</td>\n",
       "      <td>kuiper belt</td>\n",
       "      <td>Where do short-period comets come from?</td>\n",
       "      <td>Oort cloud</td>\n",
       "      <td>Kuiper-Oort cloud</td>\n",
       "      <td>Kuiper-Kuiper cloud</td>\n",
       "    </tr>\n",
       "    <tr>\n",
       "      <th>1757</th>\n",
       "      <td>998</td>\n",
       "      <td>ground_truth</td>\n",
       "      <td>Atoms with unstable nuclei are radioactive. To...</td>\n",
       "      <td>radioactive</td>\n",
       "      <td>What are atoms with unstable nuclei are consid...</td>\n",
       "      <td>ions</td>\n",
       "      <td>unstable</td>\n",
       "      <td>destructive</td>\n",
       "    </tr>\n",
       "    <tr>\n",
       "      <th>1758</th>\n",
       "      <td>998</td>\n",
       "      <td>answer_given</td>\n",
       "      <td>Atoms with unstable nuclei are radioactive. To...</td>\n",
       "      <td>radioactive</td>\n",
       "      <td>Atoms with unstable nuclei are what?</td>\n",
       "      <td>toxic</td>\n",
       "      <td>radioactive</td>\n",
       "      <td>unstable</td>\n",
       "    </tr>\n",
       "    <tr>\n",
       "      <th>1759</th>\n",
       "      <td>999</td>\n",
       "      <td>ground_truth</td>\n",
       "      <td>On land, sulfur is deposited in four major way...</td>\n",
       "      <td>sulfur dioxide (so2)</td>\n",
       "      <td>In what form is atmospheric sulfur found?</td>\n",
       "      <td>formaldehyde</td>\n",
       "      <td>sulfuric acid</td>\n",
       "      <td>sulfur monoxide</td>\n",
       "    </tr>\n",
       "    <tr>\n",
       "      <th>1760</th>\n",
       "      <td>999</td>\n",
       "      <td>answer_given</td>\n",
       "      <td>On land, sulfur is deposited in four major way...</td>\n",
       "      <td>sulfur dioxide (so2)</td>\n",
       "      <td>What is the name of the form of sulfur found i...</td>\n",
       "      <td>sulfur monoxide</td>\n",
       "      <td>sulfur chloride</td>\n",
       "      <td>sulfur nitrate</td>\n",
       "    </tr>\n",
       "  </tbody>\n",
       "</table>\n",
       "<p>1761 rows × 8 columns</p>\n",
       "</div>"
      ],
      "text/plain": [
       "       id          case                                            support  \\\n",
       "0       0  ground_truth  Oxidants and Reductants Compounds that are cap...   \n",
       "1       0  answer_given  Oxidants and Reductants Compounds that are cap...   \n",
       "2       1  ground_truth  But transgenic animals just have one novel gen...   \n",
       "3       1  answer_given  But transgenic animals just have one novel gen...   \n",
       "4       2  ground_truth  Figure 29.7 Vertebrata are characterized by th...   \n",
       "...   ...           ...                                                ...   \n",
       "1756  996  answer_given  Short-period comets come from the Kuiper belt,...   \n",
       "1757  998  ground_truth  Atoms with unstable nuclei are radioactive. To...   \n",
       "1758  998  answer_given  Atoms with unstable nuclei are radioactive. To...   \n",
       "1759  999  ground_truth  On land, sulfur is deposited in four major way...   \n",
       "1760  999  answer_given  On land, sulfur is deposited in four major way...   \n",
       "\n",
       "                    answer                                           question  \\\n",
       "0                 oxidants  Compounds that are capable of accepting electr...   \n",
       "1                 oxidants  What are compounds that are capable of accepti...   \n",
       "2                    clone  What term in biotechnology means a genetically...   \n",
       "3                    clone  What is a genetically exact copy of an organis...   \n",
       "4                 backbone  Vertebrata are characterized by the presence o...   \n",
       "...                    ...                                                ...   \n",
       "1756           kuiper belt            Where do short-period comets come from?   \n",
       "1757           radioactive  What are atoms with unstable nuclei are consid...   \n",
       "1758           radioactive               Atoms with unstable nuclei are what?   \n",
       "1759  sulfur dioxide (so2)          In what form is atmospheric sulfur found?   \n",
       "1760  sulfur dioxide (so2)  What is the name of the form of sulfur found i...   \n",
       "\n",
       "          distractor1        distractor2          distractor3  \n",
       "0        antioxidants             Oxygen             residues  \n",
       "1               acids            enzymes           reductants  \n",
       "2               adult               male            phenotype  \n",
       "3             replica          duplicate              replica  \n",
       "4               Bones            Muscles               Thumbs  \n",
       "...               ...                ...                  ...  \n",
       "1756       Oort cloud  Kuiper-Oort cloud  Kuiper-Kuiper cloud  \n",
       "1757             ions           unstable          destructive  \n",
       "1758            toxic        radioactive             unstable  \n",
       "1759     formaldehyde      sulfuric acid      sulfur monoxide  \n",
       "1760  sulfur monoxide    sulfur chloride       sulfur nitrate  \n",
       "\n",
       "[1761 rows x 8 columns]"
      ]
     },
     "execution_count": 2,
     "metadata": {},
     "output_type": "execute_result"
    }
   ],
   "source": [
    "inference = pd.read_csv(os.path.join(\"datasets\", \"inference_quantitative_analysis.tsv\"), sep=\"\\t\", header=0)\n",
    "inference"
   ]
  },
  {
   "cell_type": "code",
   "execution_count": 3,
   "id": "515b5744",
   "metadata": {},
   "outputs": [
    {
     "data": {
      "text/plain": [
       "{'id': 3,\n",
       " 'case': 'answer_given',\n",
       " 'support': 'As you know, the surface of Earth is not flat. Some places are high, and some places are low. For example, mountain ranges like the Sierra Nevada in California or the Andes in South America are high above the surrounding areas. An accurate location must take into account the third dimension. Elevation is the height above or below sea level. Sea level refers to the height of the ocean’s surface. This is the midpoint between high and low tide. Sea level can vary from place to place, but scientists base their elevation measurements on the average, or mean, sea level to make sure they have a standard reference point.',\n",
       " 'correct_answer': 'elevation',\n",
       " 'question': 'What is the term for the height above or below sea level?',\n",
       " 'distractor1': 'latitude',\n",
       " 'distractor2': 'longitude',\n",
       " 'distractor3': 'altitude'}"
      ]
     },
     "execution_count": 3,
     "metadata": {},
     "output_type": "execute_result"
    }
   ],
   "source": [
    "groundTruth = inference[inference[\"case\"] == \"ground_truth\"]\n",
    "answerGiven = inference[inference[\"case\"] == \"answer_given\"]\n",
    "\n",
    "groundTruth = datasets.Dataset.from_pandas(groundTruth, preserve_index = False)\n",
    "groundTruth = groundTruth.rename_column(\"answer\", \"correct_answer\")\n",
    "answerGiven = datasets.Dataset.from_pandas(answerGiven, preserve_index = False)\n",
    "answerGiven = answerGiven.rename_column(\"answer\", \"correct_answer\")\n",
    "\n",
    "answerGiven[3]"
   ]
  },
  {
   "cell_type": "markdown",
   "id": "9ea67978",
   "metadata": {},
   "source": [
    "## Length of answers and distractors"
   ]
  },
  {
   "cell_type": "code",
   "execution_count": 32,
   "id": "eb048679",
   "metadata": {},
   "outputs": [
    {
     "data": {
      "application/vnd.jupyter.widget-view+json": {
       "model_id": "d17f4e2ad19b41c4bad9b2f640bae1f3",
       "version_major": 2,
       "version_minor": 0
      },
      "text/plain": [
       "Map:   0%|          | 0/11679 [00:00<?, ? examples/s]"
      ]
     },
     "metadata": {},
     "output_type": "display_data"
    }
   ],
   "source": [
    "def get_max_length(sample):\n",
    "    return {\n",
    "        \"max_length\": max(\n",
    "            [len(sample[y].split(\" \")) for y in [\"correct_answer\", \"distractor1\", \"distractor2\", \"distractor3\"]]\n",
    "        )\n",
    "    }\n",
    "\n",
    "\n",
    "train = train.map(get_max_length, remove_columns=[\"question\", \"support\"])"
   ]
  },
  {
   "cell_type": "code",
   "execution_count": 45,
   "id": "c2e91604",
   "metadata": {},
   "outputs": [
    {
     "data": {
      "text/html": [
       "<div>\n",
       "<style scoped>\n",
       "    .dataframe tbody tr th:only-of-type {\n",
       "        vertical-align: middle;\n",
       "    }\n",
       "\n",
       "    .dataframe tbody tr th {\n",
       "        vertical-align: top;\n",
       "    }\n",
       "\n",
       "    .dataframe thead th {\n",
       "        text-align: right;\n",
       "    }\n",
       "</style>\n",
       "<table border=\"1\" class=\"dataframe\">\n",
       "  <thead>\n",
       "    <tr style=\"text-align: right;\">\n",
       "      <th></th>\n",
       "      <th>number of words</th>\n",
       "      <th>frequency</th>\n",
       "    </tr>\n",
       "  </thead>\n",
       "  <tbody>\n",
       "    <tr>\n",
       "      <th>0</th>\n",
       "      <td>1</td>\n",
       "      <td>6204</td>\n",
       "    </tr>\n",
       "    <tr>\n",
       "      <th>1</th>\n",
       "      <td>2</td>\n",
       "      <td>4018</td>\n",
       "    </tr>\n",
       "    <tr>\n",
       "      <th>2</th>\n",
       "      <td>3</td>\n",
       "      <td>1142</td>\n",
       "    </tr>\n",
       "    <tr>\n",
       "      <th>3</th>\n",
       "      <td>4</td>\n",
       "      <td>196</td>\n",
       "    </tr>\n",
       "    <tr>\n",
       "      <th>4</th>\n",
       "      <td>5</td>\n",
       "      <td>64</td>\n",
       "    </tr>\n",
       "    <tr>\n",
       "      <th>5</th>\n",
       "      <td>6</td>\n",
       "      <td>26</td>\n",
       "    </tr>\n",
       "    <tr>\n",
       "      <th>6</th>\n",
       "      <td>7</td>\n",
       "      <td>14</td>\n",
       "    </tr>\n",
       "    <tr>\n",
       "      <th>7</th>\n",
       "      <td>8</td>\n",
       "      <td>5</td>\n",
       "    </tr>\n",
       "    <tr>\n",
       "      <th>8</th>\n",
       "      <td>9</td>\n",
       "      <td>3</td>\n",
       "    </tr>\n",
       "    <tr>\n",
       "      <th>9</th>\n",
       "      <td>10</td>\n",
       "      <td>3</td>\n",
       "    </tr>\n",
       "    <tr>\n",
       "      <th>10</th>\n",
       "      <td>11</td>\n",
       "      <td>3</td>\n",
       "    </tr>\n",
       "    <tr>\n",
       "      <th>11</th>\n",
       "      <td>12</td>\n",
       "      <td>1</td>\n",
       "    </tr>\n",
       "  </tbody>\n",
       "</table>\n",
       "</div>"
      ],
      "text/plain": [
       "    number of words  frequency\n",
       "0                 1       6204\n",
       "1                 2       4018\n",
       "2                 3       1142\n",
       "3                 4        196\n",
       "4                 5         64\n",
       "5                 6         26\n",
       "6                 7         14\n",
       "7                 8          5\n",
       "8                 9          3\n",
       "9                10          3\n",
       "10               11          3\n",
       "11               12          1"
      ]
     },
     "execution_count": 45,
     "metadata": {},
     "output_type": "execute_result"
    }
   ],
   "source": [
    "train_df = train\n",
    "train_df.set_format(\"pandas\")\n",
    "train_df = train_df[:]\n",
    "# train_df[\"len_correct_answer\"] = train_df[\"correct_answer\"].apply(lambda x: len(x.split(\" \")))\n",
    "train_df[\"max_length\"] = train_df.apply(\n",
    "    lambda x: max([len(x[y].split(\" \")) for y in [\"correct_answer\", \"distractor1\", \"distractor2\", \"distractor3\"]]),\n",
    "    axis=1)\n",
    "\n",
    "frequencies = (\n",
    "#         train_df[\"len_correct_answer\"]\n",
    "    train_df[\"max_length\"]\n",
    "    .value_counts().to_frame().reset_index()\n",
    "    .rename(columns={\"index\": \"number of words\", \"max_length\": \"frequency\"})\n",
    ")\n",
    "train.set_format()\n",
    "frequencies"
   ]
  },
  {
   "cell_type": "markdown",
   "id": "32b75401",
   "metadata": {},
   "source": [
    "## Sentence embeddings"
   ]
  },
  {
   "cell_type": "code",
   "execution_count": 4,
   "id": "44003a32",
   "metadata": {},
   "outputs": [],
   "source": [
    "model = SentenceTransformer(\n",
    "    \"all-mpnet-base-v2\"\n",
    ")  # See for other pretrained models: https://www.sbert.net/docs/pretrained_models.html"
   ]
  },
  {
   "cell_type": "code",
   "execution_count": 5,
   "id": "d30e0094",
   "metadata": {},
   "outputs": [],
   "source": [
    "def getSentenceSimilarities(dataset, removePerfectSimilarities = False):\n",
    "    ansToDist = [] # Similarity scores of the answer compared to the distractors of a given question.\n",
    "    distToDist = [] # Similarity scores between the distractors of a given question.\n",
    "\n",
    "    keys_to_encode = [\"correct_answer\", \"distractor1\", \"distractor2\", \"distractor3\"]\n",
    "    for i, sample in enumerate(tqdm(dataset)):\n",
    "        strings_to_encode = [sample[j] for j in keys_to_encode]\n",
    "        embeddings = {key: value for key, value in zip(keys_to_encode, model.encode(strings_to_encode))}\n",
    "\n",
    "        sim = util.cos_sim(\n",
    "            embeddings[\"correct_answer\"],\n",
    "            np.array([embeddings[distractor] for distractor in [\"distractor1\", \"distractor2\", \"distractor3\"]]),\n",
    "        )\n",
    "        sim = sim.numpy()[0]\n",
    "        ansToDist.extend(sim)\n",
    "\n",
    "        sim = [\n",
    "            util.cos_sim(embeddings[\"distractor\" + str(a)], embeddings[\"distractor\" + str(b)]).item()\n",
    "            for a, b in [(1, 2), (1, 3), (2, 3)]\n",
    "        ]\n",
    "        distToDist.extend(sim)\n",
    "    \n",
    "    if removePerfectSimilarities:\n",
    "        ansToDist = [x for x in ansToDist if x < 1.0]\n",
    "        distToDist = [x for x in distToDist if x < 1.0]\n",
    "    \n",
    "    return ansToDist, distToDist"
   ]
  },
  {
   "cell_type": "code",
   "execution_count": 6,
   "id": "6bedc325",
   "metadata": {},
   "outputs": [
    {
     "name": "stderr",
     "output_type": "stream",
     "text": [
      "100%|██████████| 884/884 [00:24<00:00, 36.34it/s]\n",
      "100%|██████████| 877/877 [00:26<00:00, 33.32it/s]\n"
     ]
    }
   ],
   "source": [
    "ansToDistGT, distToDistGT = getSentenceSimilarities(groundTruth, removePerfectSimilarities = True)\n",
    "ansToDistAG, distToDistAG = getSentenceSimilarities(answerGiven, removePerfectSimilarities = True)"
   ]
  },
  {
   "cell_type": "code",
   "execution_count": 10,
   "id": "749e5cf7",
   "metadata": {},
   "outputs": [
    {
     "data": {
      "text/html": [
       "<div>\n",
       "<style scoped>\n",
       "    .dataframe tbody tr th:only-of-type {\n",
       "        vertical-align: middle;\n",
       "    }\n",
       "\n",
       "    .dataframe tbody tr th {\n",
       "        vertical-align: top;\n",
       "    }\n",
       "\n",
       "    .dataframe thead th {\n",
       "        text-align: right;\n",
       "    }\n",
       "</style>\n",
       "<table border=\"1\" class=\"dataframe\">\n",
       "  <thead>\n",
       "    <tr style=\"text-align: right;\">\n",
       "      <th></th>\n",
       "      <th>ansToDist Ground Truth</th>\n",
       "    </tr>\n",
       "  </thead>\n",
       "  <tbody>\n",
       "    <tr>\n",
       "      <th>count</th>\n",
       "      <td>2652.000000</td>\n",
       "    </tr>\n",
       "    <tr>\n",
       "      <th>mean</th>\n",
       "      <td>0.453155</td>\n",
       "    </tr>\n",
       "    <tr>\n",
       "      <th>std</th>\n",
       "      <td>0.179769</td>\n",
       "    </tr>\n",
       "    <tr>\n",
       "      <th>min</th>\n",
       "      <td>0.032064</td>\n",
       "    </tr>\n",
       "    <tr>\n",
       "      <th>25%</th>\n",
       "      <td>0.320338</td>\n",
       "    </tr>\n",
       "    <tr>\n",
       "      <th>50%</th>\n",
       "      <td>0.439172</td>\n",
       "    </tr>\n",
       "    <tr>\n",
       "      <th>75%</th>\n",
       "      <td>0.571298</td>\n",
       "    </tr>\n",
       "    <tr>\n",
       "      <th>max</th>\n",
       "      <td>0.976144</td>\n",
       "    </tr>\n",
       "  </tbody>\n",
       "</table>\n",
       "</div>"
      ],
      "text/plain": [
       "       ansToDist Ground Truth\n",
       "count             2652.000000\n",
       "mean                 0.453155\n",
       "std                  0.179769\n",
       "min                  0.032064\n",
       "25%                  0.320338\n",
       "50%                  0.439172\n",
       "75%                  0.571298\n",
       "max                  0.976144"
      ]
     },
     "execution_count": 10,
     "metadata": {},
     "output_type": "execute_result"
    }
   ],
   "source": [
    "pd.DataFrame({\"ansToDist Ground Truth\":ansToDistGT}).describe()"
   ]
  },
  {
   "cell_type": "code",
   "execution_count": 89,
   "id": "4d7f5737",
   "metadata": {},
   "outputs": [
    {
     "data": {
      "text/html": [
       "<div>\n",
       "<style scoped>\n",
       "    .dataframe tbody tr th:only-of-type {\n",
       "        vertical-align: middle;\n",
       "    }\n",
       "\n",
       "    .dataframe tbody tr th {\n",
       "        vertical-align: top;\n",
       "    }\n",
       "\n",
       "    .dataframe thead th {\n",
       "        text-align: right;\n",
       "    }\n",
       "</style>\n",
       "<table border=\"1\" class=\"dataframe\">\n",
       "  <thead>\n",
       "    <tr style=\"text-align: right;\">\n",
       "      <th></th>\n",
       "      <th>distToDist Ground Truth:</th>\n",
       "    </tr>\n",
       "  </thead>\n",
       "  <tbody>\n",
       "    <tr>\n",
       "      <th>count</th>\n",
       "      <td>2647.000000</td>\n",
       "    </tr>\n",
       "    <tr>\n",
       "      <th>mean</th>\n",
       "      <td>0.405347</td>\n",
       "    </tr>\n",
       "    <tr>\n",
       "      <th>std</th>\n",
       "      <td>0.171571</td>\n",
       "    </tr>\n",
       "    <tr>\n",
       "      <th>min</th>\n",
       "      <td>-0.012216</td>\n",
       "    </tr>\n",
       "    <tr>\n",
       "      <th>25%</th>\n",
       "      <td>0.272554</td>\n",
       "    </tr>\n",
       "    <tr>\n",
       "      <th>50%</th>\n",
       "      <td>0.388052</td>\n",
       "    </tr>\n",
       "    <tr>\n",
       "      <th>75%</th>\n",
       "      <td>0.518227</td>\n",
       "    </tr>\n",
       "    <tr>\n",
       "      <th>max</th>\n",
       "      <td>0.976091</td>\n",
       "    </tr>\n",
       "  </tbody>\n",
       "</table>\n",
       "</div>"
      ],
      "text/plain": [
       "       distToDist Ground Truth:\n",
       "count               2647.000000\n",
       "mean                   0.405347\n",
       "std                    0.171571\n",
       "min                   -0.012216\n",
       "25%                    0.272554\n",
       "50%                    0.388052\n",
       "75%                    0.518227\n",
       "max                    0.976091"
      ]
     },
     "execution_count": 89,
     "metadata": {},
     "output_type": "execute_result"
    }
   ],
   "source": [
    "pd.DataFrame({\"distToDist Ground Truth:\": distToDistGT}).describe()"
   ]
  },
  {
   "cell_type": "code",
   "execution_count": 90,
   "id": "f14adc63",
   "metadata": {},
   "outputs": [
    {
     "data": {
      "text/html": [
       "<div>\n",
       "<style scoped>\n",
       "    .dataframe tbody tr th:only-of-type {\n",
       "        vertical-align: middle;\n",
       "    }\n",
       "\n",
       "    .dataframe tbody tr th {\n",
       "        vertical-align: top;\n",
       "    }\n",
       "\n",
       "    .dataframe thead th {\n",
       "        text-align: right;\n",
       "    }\n",
       "</style>\n",
       "<table border=\"1\" class=\"dataframe\">\n",
       "  <thead>\n",
       "    <tr style=\"text-align: right;\">\n",
       "      <th></th>\n",
       "      <th>ansToDist Answer Given</th>\n",
       "    </tr>\n",
       "  </thead>\n",
       "  <tbody>\n",
       "    <tr>\n",
       "      <th>count</th>\n",
       "      <td>2543.000000</td>\n",
       "    </tr>\n",
       "    <tr>\n",
       "      <th>mean</th>\n",
       "      <td>0.523479</td>\n",
       "    </tr>\n",
       "    <tr>\n",
       "      <th>std</th>\n",
       "      <td>0.184558</td>\n",
       "    </tr>\n",
       "    <tr>\n",
       "      <th>min</th>\n",
       "      <td>0.038109</td>\n",
       "    </tr>\n",
       "    <tr>\n",
       "      <th>25%</th>\n",
       "      <td>0.387583</td>\n",
       "    </tr>\n",
       "    <tr>\n",
       "      <th>50%</th>\n",
       "      <td>0.510599</td>\n",
       "    </tr>\n",
       "    <tr>\n",
       "      <th>75%</th>\n",
       "      <td>0.646416</td>\n",
       "    </tr>\n",
       "    <tr>\n",
       "      <th>max</th>\n",
       "      <td>1.000000</td>\n",
       "    </tr>\n",
       "  </tbody>\n",
       "</table>\n",
       "</div>"
      ],
      "text/plain": [
       "       ansToDist Answer Given\n",
       "count             2543.000000\n",
       "mean                 0.523479\n",
       "std                  0.184558\n",
       "min                  0.038109\n",
       "25%                  0.387583\n",
       "50%                  0.510599\n",
       "75%                  0.646416\n",
       "max                  1.000000"
      ]
     },
     "execution_count": 90,
     "metadata": {},
     "output_type": "execute_result"
    }
   ],
   "source": [
    "pd.DataFrame({\"ansToDist Answer Given\":ansToDistAG}).describe()"
   ]
  },
  {
   "cell_type": "code",
   "execution_count": 91,
   "id": "412c2cbb",
   "metadata": {},
   "outputs": [
    {
     "data": {
      "text/html": [
       "<div>\n",
       "<style scoped>\n",
       "    .dataframe tbody tr th:only-of-type {\n",
       "        vertical-align: middle;\n",
       "    }\n",
       "\n",
       "    .dataframe tbody tr th {\n",
       "        vertical-align: top;\n",
       "    }\n",
       "\n",
       "    .dataframe thead th {\n",
       "        text-align: right;\n",
       "    }\n",
       "</style>\n",
       "<table border=\"1\" class=\"dataframe\">\n",
       "  <thead>\n",
       "    <tr style=\"text-align: right;\">\n",
       "      <th></th>\n",
       "      <th>distToDist Answer Given:</th>\n",
       "    </tr>\n",
       "  </thead>\n",
       "  <tbody>\n",
       "    <tr>\n",
       "      <th>count</th>\n",
       "      <td>2436.000000</td>\n",
       "    </tr>\n",
       "    <tr>\n",
       "      <th>mean</th>\n",
       "      <td>0.528824</td>\n",
       "    </tr>\n",
       "    <tr>\n",
       "      <th>std</th>\n",
       "      <td>0.181984</td>\n",
       "    </tr>\n",
       "    <tr>\n",
       "      <th>min</th>\n",
       "      <td>0.019902</td>\n",
       "    </tr>\n",
       "    <tr>\n",
       "      <th>25%</th>\n",
       "      <td>0.395768</td>\n",
       "    </tr>\n",
       "    <tr>\n",
       "      <th>50%</th>\n",
       "      <td>0.511877</td>\n",
       "    </tr>\n",
       "    <tr>\n",
       "      <th>75%</th>\n",
       "      <td>0.649912</td>\n",
       "    </tr>\n",
       "    <tr>\n",
       "      <th>max</th>\n",
       "      <td>1.000000</td>\n",
       "    </tr>\n",
       "  </tbody>\n",
       "</table>\n",
       "</div>"
      ],
      "text/plain": [
       "       distToDist Answer Given:\n",
       "count               2436.000000\n",
       "mean                   0.528824\n",
       "std                    0.181984\n",
       "min                    0.019902\n",
       "25%                    0.395768\n",
       "50%                    0.511877\n",
       "75%                    0.649912\n",
       "max                    1.000000"
      ]
     },
     "execution_count": 91,
     "metadata": {},
     "output_type": "execute_result"
    }
   ],
   "source": [
    "pd.DataFrame({\"distToDist Answer Given:\": distToDistAG}).describe()"
   ]
  },
  {
   "cell_type": "code",
   "execution_count": 97,
   "id": "fcda72c5",
   "metadata": {},
   "outputs": [
    {
     "data": {
      "text/plain": [
       "(array([ 0.70782536,  3.81439233, 10.18482018, 17.65631104, 19.18993187,\n",
       "        17.18442726, 14.86433315,  8.57255173,  5.58395576,  2.24144697]),\n",
       " array([0.03810859, 0.13429773, 0.23048687, 0.326676  , 0.42286512,\n",
       "        0.5190543 , 0.6152434 , 0.7114325 , 0.80762166, 0.9038108 ,\n",
       "        0.99999994], dtype=float32),\n",
       " <BarContainer object of 10 artists>)"
      ]
     },
     "execution_count": 97,
     "metadata": {},
     "output_type": "execute_result"
    },
    {
     "data": {
      "image/png": "[encoded data removed]",
      "text/plain": [
       "<Figure size 432x288 with 1 Axes>"
      ]
     },
     "metadata": {
      "needs_background": "light"
     },
     "output_type": "display_data"
    }
   ],
   "source": [
    "plt.hist(ansToDistGT, bins=10, weights=np.zeros_like(ansToDistGT) + 100. / len(ansToDistGT))\n",
    "plt.hist(ansToDistAG, bins=10, weights=np.zeros_like(ansToDistAG) + 100. / len(ansToDistAG), alpha = 0.5)"
   ]
  },
  {
   "cell_type": "code",
   "execution_count": 94,
   "id": "e8eba1d9",
   "metadata": {},
   "outputs": [
    {
     "data": {
      "image/png": "[encoded data removed]",
      "text/plain": [
       "<Figure size 864x432 with 2 Axes>"
      ]
     },
     "metadata": {
      "needs_background": "light"
     },
     "output_type": "display_data"
    }
   ],
   "source": [
    "meanAnsToDistGT = np.mean(ansToDistGT)\n",
    "meanAnsToDistAG = np.mean(ansToDistAG)\n",
    "meanDistToDistGT = np.mean(distToDistGT)\n",
    "meanDistToDistAG = np.mean(distToDistAG)\n",
    "\n",
    "fig, axs = plt.subplots(1, 2, tight_layout=True, figsize=(12, 6), sharex = True, sharey = True)\n",
    "ax = axs[0]\n",
    "sns.kdeplot(ansToDistGT,\n",
    "            label = \"Ground truth\",\n",
    "            cut = 0,\n",
    "            fill=True,\n",
    "            ax = ax)\n",
    "sns.kdeplot(ansToDistAG,\n",
    "            label = \"Answer given\",\n",
    "            cut = 0,\n",
    "            fill=True,\n",
    "            ax = ax)\n",
    "\n",
    "ax.axvline(meanAnsToDistGT, color='blue', linestyle='--', label='Mean (Ground truth)')\n",
    "ax.axvline(meanAnsToDistAG, color='orange', linestyle='--', label='Mean (Answer given)')\n",
    "\n",
    "sns.kdeplot(distToDistGT,\n",
    "            label = \"Ground truth\",\n",
    "            cut = 0,\n",
    "            fill=True,\n",
    "            ax = axs[1])\n",
    "sns.kdeplot(distToDistAG,\n",
    "            label = \"Answer given\",\n",
    "            cut = 0,\n",
    "            fill=True,\n",
    "            ax = axs[1])\n",
    "\n",
    "axs[1].axvline(meanDistToDistGT, color='blue', linestyle='--')\n",
    "axs[1].axvline(meanDistToDistAG, color='orange', linestyle='--')\n",
    "axs[1].axvline(np.NaN, color='black', linestyle='--', label='Mean')\n",
    "\n",
    "ax.set_yticklabels([])\n",
    "ax.xaxis.set_minor_locator(plt.MultipleLocator(0.1))\n",
    "ax.tick_params(axis='x', which='major', labelsize='large', width=2, length=8)\n",
    "ax.tick_params(axis='x', which='minor', width=1, length=4)\n",
    "axs[1].tick_params(axis='x', which='major', labelsize='large', width=2, length=8)\n",
    "axs[1].tick_params(axis='x', which='minor', width=1, length=4)\n",
    "\n",
    "# ax.set_xlim(-0.1, 1)\n",
    "ax.set_xlabel('Cosine Similarity', fontsize='large')\n",
    "ax.set_ylabel('Density', fontsize='large')\n",
    "\n",
    "\n",
    "axs[0].set_title('Answer to distractor', fontsize='x-large')\n",
    "axs[1].set_title('Distractor to distractor', fontsize='x-large')\n",
    "fig.suptitle('Distribution of Cosine Similarity Values', fontsize='x-large')\n",
    "plt.xlabel('Cosine Similarity', fontsize='large')\n",
    "\n",
    "axs[1].legend(fontsize='large')\n",
    "\n",
    "# plt.savefig(fname=\"similarity_distributions.png\")\n",
    "plt.show()"
   ]
  },
  {
   "cell_type": "code",
   "execution_count": 98,
   "id": "1f7e8f14",
   "metadata": {},
   "outputs": [
    {
     "data": {
      "text/plain": [
       "(array([ 0.12315271,  2.50410509,  9.03119869, 16.37931034, 21.67487685,\n",
       "        17.61083744, 15.96880131,  8.16912972,  5.82922824,  2.70935961]),\n",
       " array([0.01990199, 0.11791179, 0.21592158, 0.31393138, 0.41194117,\n",
       "        0.50995097, 0.60796076, 0.70597056, 0.80398035, 0.90199015,\n",
       "        0.99999994]),\n",
       " <BarContainer object of 10 artists>)"
      ]
     },
     "execution_count": 98,
     "metadata": {},
     "output_type": "execute_result"
    },
    {
     "data": {
      "image/png": "[encoded data removed]",
      "text/plain": [
       "<Figure size 432x288 with 1 Axes>"
      ]
     },
     "metadata": {
      "needs_background": "light"
     },
     "output_type": "display_data"
    }
   ],
   "source": [
    "plt.hist(distToDistGT, bins=10, weights=np.zeros_like(distToDistGT) + 100. / len(distToDistGT))\n",
    "plt.hist(distToDistAG, bins=10, weights=np.zeros_like(distToDistAG) + 100. / len(distToDistAG), alpha = 0.5)"
   ]
  },
  {
   "cell_type": "markdown",
   "id": "818434e8",
   "metadata": {},
   "source": [
    "### Statistical tests"
   ]
  },
  {
   "cell_type": "code",
   "execution_count": 23,
   "id": "43c6176b",
   "metadata": {},
   "outputs": [
    {
     "name": "stdout",
     "output_type": "stream",
     "text": [
      "T-test of ansToDistGT and distToDistGT: Ttest_indResult(statistic=9.902463287821552, pvalue=6.417094707181524e-23)\n",
      "T-test of ansToDistGT and ansToDistAG: Ttest_indResult(statistic=-13.91210304854718, pvalue=3.165343535008755e-43)\n",
      "T-test of distToDistGT and distToDistAG: Ttest_indResult(statistic=-24.897731299114888, pvalue=3.3135821939545796e-129)\n"
     ]
    }
   ],
   "source": [
    "# For the test set: do the similarity scores of answer-to-distractor and\n",
    "# distractor-to-distractor come from the same distribution?\n",
    "print(\"T-test of ansToDistGT and distToDistGT:\", ttest_ind(ansToDistGT, distToDistGT))\n",
    "\n",
    "# Do the similarity scores of answer-to-distractor of the test set and \n",
    "# From the model inference come from the same distribution?\n",
    "print(\"T-test of ansToDistGT and ansToDistAG:\", ttest_ind(ansToDistGT, ansToDistAG))\n",
    "\n",
    "# Do the similarity scores of distractor-to-distractor of the test set and \n",
    "# From the model inference come from the same distribution?\n",
    "print(\"T-test of distToDistGT and distToDistAG:\", ttest_ind(distToDistGT, distToDistAG))"
   ]
  },
  {
   "cell_type": "markdown",
   "id": "fa724fa3",
   "metadata": {},
   "source": [
    "## Word embeddings"
   ]
  },
  {
   "cell_type": "code",
   "execution_count": 6,
   "id": "4704f5c2",
   "metadata": {},
   "outputs": [],
   "source": [
    "# fasttext = gensim.downloader.load(\"fasttext-wiki-news-subwords-300\")\n",
    "# fasttext = gensim.models.KeyedVectors.load(\"ft\") #, mmap='r'"
   ]
  },
  {
   "cell_type": "code",
   "execution_count": 7,
   "id": "57c0ee95",
   "metadata": {},
   "outputs": [
    {
     "name": "stdout",
     "output_type": "stream",
     "text": [
      "0.52428013\n",
      "0.52428013\n"
     ]
    }
   ],
   "source": [
    "print(fasttext.similarity(\"viruses\", \"protozoa\"))\n",
    "print(fasttext.similarity(\"protozoa\", \"viruses\"))"
   ]
  },
  {
   "cell_type": "code",
   "execution_count": 9,
   "id": "8992140b",
   "metadata": {},
   "outputs": [
    {
     "name": "stdout",
     "output_type": "stream",
     "text": [
      "Dataset({\n",
      "    features: ['question', 'distractor3', 'distractor1', 'distractor2', 'correct_answer', 'support'],\n",
      "    num_rows: 10\n",
      "})\n",
      "{'question': 'What type of organism is commonly used in preparation of foods such as cheese and yogurt?', 'distractor3': 'viruses', 'distractor1': 'protozoa', 'distractor2': 'gymnosperms', 'correct_answer': 'mesophilic organisms', 'support': 'Mesophiles grow best in moderate temperature, typically between 25°C and 40°C (77°F and 104°F). Mesophiles are often found living in or on the bodies of humans or other animals. The optimal growth temperature of many pathogenic mesophiles is 37°C (98°F), the normal human body temperature. Mesophilic organisms have important uses in food preparation, including cheese, yogurt, beer and wine.'}\n"
     ]
    }
   ],
   "source": [
    "small = train.select([i for i in range(10)])\n",
    "print(small)\n",
    "print(small[0])"
   ]
  },
  {
   "cell_type": "code",
   "execution_count": 63,
   "id": "3572c155",
   "metadata": {},
   "outputs": [
    {
     "name": "stdout",
     "output_type": "stream",
     "text": [
      "1481\n",
      "4997\n",
      "5387\n",
      "5558\n",
      "11108\n",
      "11116\n"
     ]
    }
   ],
   "source": [
    "ansToDist = []\n",
    "distToDist = []\n",
    "for i, sample in enumerate(train):\n",
    "    if sample[\"max_length\"] > 1:\n",
    "        continue\n",
    "    try:\n",
    "        sim = [\n",
    "            fasttext.similarity(sample[\"correct_answer\"], sample[distractor])\n",
    "            for distractor in [\"distractor1\", \"distractor2\", \"distractor3\"]\n",
    "        ]\n",
    "        ansToDist.extend(sim)\n",
    "        if max(sim) >= 1.0:\n",
    "            print(i)\n",
    "        sim = [\n",
    "            fasttext.similarity(sample[\"distractor\" + str(a)], sample[\"distractor\" + str(b)])\n",
    "            for a, b in [(1, 2), (1, 3), (2, 3)]\n",
    "        ]\n",
    "        distToDist.extend(sim)\n",
    "    except KeyError:\n",
    "        continue"
   ]
  },
  {
   "cell_type": "code",
   "execution_count": 54,
   "id": "eac36659",
   "metadata": {
    "scrolled": true
   },
   "outputs": [
    {
     "data": {
      "text/html": [
       "<div>\n",
       "<style scoped>\n",
       "    .dataframe tbody tr th:only-of-type {\n",
       "        vertical-align: middle;\n",
       "    }\n",
       "\n",
       "    .dataframe tbody tr th {\n",
       "        vertical-align: top;\n",
       "    }\n",
       "\n",
       "    .dataframe thead th {\n",
       "        text-align: right;\n",
       "    }\n",
       "</style>\n",
       "<table border=\"1\" class=\"dataframe\">\n",
       "  <thead>\n",
       "    <tr style=\"text-align: right;\">\n",
       "      <th></th>\n",
       "      <th>0</th>\n",
       "    </tr>\n",
       "  </thead>\n",
       "  <tbody>\n",
       "    <tr>\n",
       "      <th>count</th>\n",
       "      <td>17109.000000</td>\n",
       "    </tr>\n",
       "    <tr>\n",
       "      <th>mean</th>\n",
       "      <td>0.511500</td>\n",
       "    </tr>\n",
       "    <tr>\n",
       "      <th>std</th>\n",
       "      <td>0.141269</td>\n",
       "    </tr>\n",
       "    <tr>\n",
       "      <th>min</th>\n",
       "      <td>-0.056659</td>\n",
       "    </tr>\n",
       "    <tr>\n",
       "      <th>25%</th>\n",
       "      <td>0.420177</td>\n",
       "    </tr>\n",
       "    <tr>\n",
       "      <th>50%</th>\n",
       "      <td>0.496206</td>\n",
       "    </tr>\n",
       "    <tr>\n",
       "      <th>75%</th>\n",
       "      <td>0.589245</td>\n",
       "    </tr>\n",
       "    <tr>\n",
       "      <th>max</th>\n",
       "      <td>1.000000</td>\n",
       "    </tr>\n",
       "  </tbody>\n",
       "</table>\n",
       "</div>"
      ],
      "text/plain": [
       "                  0\n",
       "count  17109.000000\n",
       "mean       0.511500\n",
       "std        0.141269\n",
       "min       -0.056659\n",
       "25%        0.420177\n",
       "50%        0.496206\n",
       "75%        0.589245\n",
       "max        1.000000"
      ]
     },
     "execution_count": 54,
     "metadata": {},
     "output_type": "execute_result"
    }
   ],
   "source": [
    "ansToDistDF = pd.DataFrame(ansToDist)\n",
    "ansToDistDF.describe()"
   ]
  },
  {
   "cell_type": "code",
   "execution_count": 53,
   "id": "26171095",
   "metadata": {},
   "outputs": [
    {
     "data": {
      "text/html": [
       "<div>\n",
       "<style scoped>\n",
       "    .dataframe tbody tr th:only-of-type {\n",
       "        vertical-align: middle;\n",
       "    }\n",
       "\n",
       "    .dataframe tbody tr th {\n",
       "        vertical-align: top;\n",
       "    }\n",
       "\n",
       "    .dataframe thead th {\n",
       "        text-align: right;\n",
       "    }\n",
       "</style>\n",
       "<table border=\"1\" class=\"dataframe\">\n",
       "  <thead>\n",
       "    <tr style=\"text-align: right;\">\n",
       "      <th></th>\n",
       "      <th>0</th>\n",
       "    </tr>\n",
       "  </thead>\n",
       "  <tbody>\n",
       "    <tr>\n",
       "      <th>count</th>\n",
       "      <td>17109.000000</td>\n",
       "    </tr>\n",
       "    <tr>\n",
       "      <th>mean</th>\n",
       "      <td>0.469450</td>\n",
       "    </tr>\n",
       "    <tr>\n",
       "      <th>std</th>\n",
       "      <td>0.139733</td>\n",
       "    </tr>\n",
       "    <tr>\n",
       "      <th>min</th>\n",
       "      <td>-0.020514</td>\n",
       "    </tr>\n",
       "    <tr>\n",
       "      <th>25%</th>\n",
       "      <td>0.377366</td>\n",
       "    </tr>\n",
       "    <tr>\n",
       "      <th>50%</th>\n",
       "      <td>0.456741</td>\n",
       "    </tr>\n",
       "    <tr>\n",
       "      <th>75%</th>\n",
       "      <td>0.544530</td>\n",
       "    </tr>\n",
       "    <tr>\n",
       "      <th>max</th>\n",
       "      <td>1.000000</td>\n",
       "    </tr>\n",
       "  </tbody>\n",
       "</table>\n",
       "</div>"
      ],
      "text/plain": [
       "                  0\n",
       "count  17109.000000\n",
       "mean       0.469450\n",
       "std        0.139733\n",
       "min       -0.020514\n",
       "25%        0.377366\n",
       "50%        0.456741\n",
       "75%        0.544530\n",
       "max        1.000000"
      ]
     },
     "execution_count": 53,
     "metadata": {},
     "output_type": "execute_result"
    }
   ],
   "source": [
    "distToDistDF = pd.DataFrame(distToDist)\n",
    "distToDistDF.describe()"
   ]
  },
  {
   "cell_type": "code",
   "execution_count": 57,
   "id": "e7570a0b",
   "metadata": {},
   "outputs": [],
   "source": [
    "npAnsToDist = np.array(ansToDist)"
   ]
  },
  {
   "cell_type": "code",
   "execution_count": 69,
   "id": "f488ad0b",
   "metadata": {},
   "outputs": [
    {
     "data": {
      "text/plain": [
       "(array([  11.,   39.,  323., 1806., 4843., 5349., 2962., 1074.,  341.,\n",
       "         361.]),\n",
       " array([-0.05665937,  0.04900656,  0.1546725 ,  0.26033843,  0.36600438,\n",
       "         0.4716703 ,  0.57733625,  0.6830022 ,  0.7886681 ,  0.8943341 ,\n",
       "         1.        ], dtype=float32),\n",
       " <BarContainer object of 10 artists>)"
      ]
     },
     "execution_count": 69,
     "metadata": {},
     "output_type": "execute_result"
    },
    {
     "data": {
      "image/png": "[encoded data removed]",
      "text/plain": [
       "<Figure size 432x288 with 1 Axes>"
      ]
     },
     "metadata": {
      "needs_background": "light"
     },
     "output_type": "display_data"
    }
   ],
   "source": [
    "plt.hist(npAnsToDist, bins=10)"
   ]
  },
  {
   "cell_type": "code",
   "execution_count": 70,
   "id": "c7ce62e7",
   "metadata": {
    "scrolled": true
   },
   "outputs": [
    {
     "data": {
      "text/plain": [
       "(array([  13.,  137.,  987., 3686., 5565., 3900., 1762.,  622.,  194.,\n",
       "         243.]),\n",
       " array([-0.02051357,  0.08153778,  0.18358915,  0.2856405 ,  0.38769186,\n",
       "         0.4897432 ,  0.59179455,  0.6938459 ,  0.7958973 ,  0.8979486 ,\n",
       "         1.        ], dtype=float32),\n",
       " <BarContainer object of 10 artists>)"
      ]
     },
     "execution_count": 70,
     "metadata": {},
     "output_type": "execute_result"
    },
    {
     "data": {
      "image/png": "[encoded data removed]",
      "text/plain": [
       "<Figure size 432x288 with 1 Axes>"
      ]
     },
     "metadata": {
      "needs_background": "light"
     },
     "output_type": "display_data"
    }
   ],
   "source": [
    "plt.hist(distToDist, bins=10)"
   ]
  },
  {
   "cell_type": "markdown",
   "id": "1d2b079f",
   "metadata": {},
   "source": [
    "## Old code"
   ]
  },
  {
   "cell_type": "code",
   "execution_count": 7,
   "id": "9339f45b",
   "metadata": {},
   "outputs": [],
   "source": [
    "def get_similarities(sample):\n",
    "    if len(sample[\"correct_answer\"].split(\" \")) > 1:\n",
    "        return {\n",
    "            \"correct_to_distractor\": [None],\n",
    "            \"distractor_to_distractor\": [None],\n",
    "        }\n",
    "    try:\n",
    "        return {\n",
    "            \"correct_to_distractor\": [\n",
    "                fasttext.similarity(sample[\"correct_answer\"], sample[distractor])\n",
    "                for distractor in [\"distractor1\", \"distractor2\", \"distractor3\"]\n",
    "            ],\n",
    "            \"distractor_to_distractor\": [\n",
    "                fasttext.similarity(sample[\"distractor\" + str(a)], sample[\"distractor\" + str(b)])\n",
    "                for a, b in [(1, 2), (1, 3), (2, 3)]\n",
    "            ],\n",
    "        }\n",
    "    except KeyError:\n",
    "        return {\n",
    "            \"correct_to_distractor\": [None],\n",
    "            \"distractor_to_distractor\": [None],\n",
    "        }"
   ]
  },
  {
   "cell_type": "markdown",
   "id": "6db83c11",
   "metadata": {},
   "source": [
    "### Finding bad samples"
   ]
  },
  {
   "cell_type": "code",
   "execution_count": null,
   "id": "e8a9167f",
   "metadata": {},
   "outputs": [],
   "source": [
    "np.argmax(npAnsToDist)\n",
    "train[1481]"
   ]
  }
 ],
 "metadata": {
  "kernelspec": {
   "display_name": "Python 3",
   "language": "python",
   "name": "python3"
  },
  "language_info": {
   "codemirror_mode": {
    "name": "ipython",
    "version": 3
   },
   "file_extension": ".py",
   "mimetype": "text/x-python",
   "name": "python",
   "nbconvert_exporter": "python",
   "pygments_lexer": "ipython3",
   "version": "3.8.10"
  }
 },
 "nbformat": 4,
 "nbformat_minor": 5
}
