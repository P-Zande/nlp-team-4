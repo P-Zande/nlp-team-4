{
 "cells": [
  {
   "cell_type": "code",
   "execution_count": null,
   "id": "eef4fc2b",
   "metadata": {},
   "outputs": [],
   "source": [
    "# Run in Colab to install local packages\n",
    "!pip install datasets gensim"
   ]
  },
  {
   "cell_type": "code",
   "execution_count": 1,
   "id": "804cde71",
   "metadata": {},
   "outputs": [],
   "source": [
    "import os\n",
    "import datasets\n",
    "import gensim\n",
    "import gensim.downloader"
   ]
  },
  {
   "cell_type": "code",
   "execution_count": 2,
   "id": "3569c265",
   "metadata": {},
   "outputs": [
    {
     "data": {
      "application/vnd.jupyter.widget-view+json": {
       "model_id": "b059d7263de74a15acacc5f3f566367e",
       "version_major": 2,
       "version_minor": 0
      },
      "text/plain": [
       "Downloading readme:   0%|          | 0.00/7.02k [00:00<?, ?B/s]"
      ]
     },
     "metadata": {},
     "output_type": "display_data"
    },
    {
     "data": {
      "application/vnd.jupyter.widget-view+json": {
       "model_id": "f61b6d04739e4491bb386d3356b1e303",
       "version_major": 2,
       "version_minor": 0
      },
      "text/plain": [
       "Downloading data:   0%|          | 0.00/3.99M [00:00<?, ?B/s]"
      ]
     },
     "metadata": {},
     "output_type": "display_data"
    },
    {
     "data": {
      "application/vnd.jupyter.widget-view+json": {
       "model_id": "eee8478e6c284a7aacca357bfee9c8fb",
       "version_major": 2,
       "version_minor": 0
      },
      "text/plain": [
       "Downloading data:   0%|          | 0.00/339k [00:00<?, ?B/s]"
      ]
     },
     "metadata": {},
     "output_type": "display_data"
    },
    {
     "data": {
      "application/vnd.jupyter.widget-view+json": {
       "model_id": "fea3c287383f47339f2f9c0bec0a7ee9",
       "version_major": 2,
       "version_minor": 0
      },
      "text/plain": [
       "Downloading data:   0%|          | 0.00/343k [00:00<?, ?B/s]"
      ]
     },
     "metadata": {},
     "output_type": "display_data"
    },
    {
     "data": {
      "application/vnd.jupyter.widget-view+json": {
       "model_id": "4a500d9332e04ea1820d6d2fc4dfd876",
       "version_major": 2,
       "version_minor": 0
      },
      "text/plain": [
       "Generating train split:   0%|          | 0/11679 [00:00<?, ? examples/s]"
      ]
     },
     "metadata": {},
     "output_type": "display_data"
    },
    {
     "data": {
      "application/vnd.jupyter.widget-view+json": {
       "model_id": "f792d15ccb1d4c0389100ad4e438b3d7",
       "version_major": 2,
       "version_minor": 0
      },
      "text/plain": [
       "Generating validation split:   0%|          | 0/1000 [00:00<?, ? examples/s]"
      ]
     },
     "metadata": {},
     "output_type": "display_data"
    },
    {
     "data": {
      "application/vnd.jupyter.widget-view+json": {
       "model_id": "f4dd1612e2f241b881614e82aef17acd",
       "version_major": 2,
       "version_minor": 0
      },
      "text/plain": [
       "Generating test split:   0%|          | 0/1000 [00:00<?, ? examples/s]"
      ]
     },
     "metadata": {},
     "output_type": "display_data"
    }
   ],
   "source": [
    "sciq = datasets.load_dataset(\"allenai/sciq\")"
   ]
  },
  {
   "cell_type": "code",
   "execution_count": 27,
   "id": "c6d7531e",
   "metadata": {},
   "outputs": [],
   "source": [
    "train = sciq[\"train\"]"
   ]
  },
  {
   "cell_type": "code",
   "execution_count": 4,
   "id": "519a1b9e",
   "metadata": {},
   "outputs": [
    {
     "name": "stdout",
     "output_type": "stream",
     "text": [
      "{'question': 'What type of organism is commonly used in preparation of foods such as cheese and yogurt?', 'distractor3': 'viruses', 'distractor1': 'protozoa', 'distractor2': 'gymnosperms', 'correct_answer': 'mesophilic organisms', 'support': 'Mesophiles grow best in moderate temperature, typically between 25°C and 40°C (77°F and 104°F). Mesophiles are often found living in or on the bodies of humans or other animals. The optimal growth temperature of many pathogenic mesophiles is 37°C (98°F), the normal human body temperature. Mesophilic organisms have important uses in food preparation, including cheese, yogurt, beer and wine.'}\n"
     ]
    }
   ],
   "source": [
    "print(train[0])"
   ]
  },
  {
   "cell_type": "code",
   "execution_count": 13,
   "id": "780509ff",
   "metadata": {},
   "outputs": [
    {
     "name": "stdout",
     "output_type": "stream",
     "text": [
      "['fasttext-wiki-news-subwords-300', 'conceptnet-numberbatch-17-06-300', 'word2vec-ruscorpora-300', 'word2vec-google-news-300', 'glove-wiki-gigaword-50', 'glove-wiki-gigaword-100', 'glove-wiki-gigaword-200', 'glove-wiki-gigaword-300', 'glove-twitter-25', 'glove-twitter-50', 'glove-twitter-100', 'glove-twitter-200', '__testing_word2vec-matrix-synopsis']\n"
     ]
    }
   ],
   "source": [
    "print(list(gensim.downloader.info()['models'].keys()))"
   ]
  },
  {
   "cell_type": "code",
   "execution_count": 5,
   "id": "7a69abc2",
   "metadata": {},
   "outputs": [],
   "source": [
    "# fasttext = gensim.downloader.load(\"fasttext-wiki-news-subwords-300\")\n",
    "fasttext = gensim.models.KeyedVectors.load(\"ft\") #, mmap='r'"
   ]
  },
  {
   "cell_type": "code",
   "execution_count": 6,
   "id": "48f58719",
   "metadata": {},
   "outputs": [
    {
     "name": "stdout",
     "output_type": "stream",
     "text": [
      "0.52428013\n",
      "0.52428013\n"
     ]
    }
   ],
   "source": [
    "print(fasttext.similarity('viruses', 'protozoa'))\n",
    "print(fasttext.similarity('protozoa', 'viruses'))"
   ]
  },
  {
   "cell_type": "code",
   "execution_count": 42,
   "id": "d81079c2",
   "metadata": {},
   "outputs": [
    {
     "data": {
      "text/html": [
       "<div>\n",
       "<style scoped>\n",
       "    .dataframe tbody tr th:only-of-type {\n",
       "        vertical-align: middle;\n",
       "    }\n",
       "\n",
       "    .dataframe tbody tr th {\n",
       "        vertical-align: top;\n",
       "    }\n",
       "\n",
       "    .dataframe thead th {\n",
       "        text-align: right;\n",
       "    }\n",
       "</style>\n",
       "<table border=\"1\" class=\"dataframe\">\n",
       "  <thead>\n",
       "    <tr style=\"text-align: right;\">\n",
       "      <th></th>\n",
       "      <th>index</th>\n",
       "      <th>max_length</th>\n",
       "    </tr>\n",
       "  </thead>\n",
       "  <tbody>\n",
       "    <tr>\n",
       "      <th>0</th>\n",
       "      <td>1</td>\n",
       "      <td>6204</td>\n",
       "    </tr>\n",
       "    <tr>\n",
       "      <th>1</th>\n",
       "      <td>2</td>\n",
       "      <td>4018</td>\n",
       "    </tr>\n",
       "    <tr>\n",
       "      <th>2</th>\n",
       "      <td>3</td>\n",
       "      <td>1142</td>\n",
       "    </tr>\n",
       "    <tr>\n",
       "      <th>3</th>\n",
       "      <td>4</td>\n",
       "      <td>196</td>\n",
       "    </tr>\n",
       "    <tr>\n",
       "      <th>4</th>\n",
       "      <td>5</td>\n",
       "      <td>64</td>\n",
       "    </tr>\n",
       "    <tr>\n",
       "      <th>5</th>\n",
       "      <td>6</td>\n",
       "      <td>26</td>\n",
       "    </tr>\n",
       "    <tr>\n",
       "      <th>6</th>\n",
       "      <td>7</td>\n",
       "      <td>14</td>\n",
       "    </tr>\n",
       "    <tr>\n",
       "      <th>7</th>\n",
       "      <td>8</td>\n",
       "      <td>5</td>\n",
       "    </tr>\n",
       "    <tr>\n",
       "      <th>8</th>\n",
       "      <td>9</td>\n",
       "      <td>3</td>\n",
       "    </tr>\n",
       "    <tr>\n",
       "      <th>9</th>\n",
       "      <td>10</td>\n",
       "      <td>3</td>\n",
       "    </tr>\n",
       "    <tr>\n",
       "      <th>10</th>\n",
       "      <td>11</td>\n",
       "      <td>3</td>\n",
       "    </tr>\n",
       "    <tr>\n",
       "      <th>11</th>\n",
       "      <td>12</td>\n",
       "      <td>1</td>\n",
       "    </tr>\n",
       "  </tbody>\n",
       "</table>\n",
       "</div>"
      ],
      "text/plain": [
       "    index  max_length\n",
       "0       1        6204\n",
       "1       2        4018\n",
       "2       3        1142\n",
       "3       4         196\n",
       "4       5          64\n",
       "5       6          26\n",
       "6       7          14\n",
       "7       8           5\n",
       "8       9           3\n",
       "9      10           3\n",
       "10     11           3\n",
       "11     12           1"
      ]
     },
     "execution_count": 42,
     "metadata": {},
     "output_type": "execute_result"
    }
   ],
   "source": [
    "train_df = train\n",
    "train_df.set_format(\"pandas\")\n",
    "train_df = train_df[:]\n",
    "train_df[\"len_correct_answer\"] = train_df[\"correct_answer\"].apply(lambda x: len(x.split(\" \")))\n",
    "# train_df[\"max_len\"] = train.map(lambda x: max([len(x[y].split(\" \")) for y in [\"correct_answer\", \"distractor1\", \"distractor2\", \"distractor3\"]]))\n",
    "\n",
    "frequencies = (\n",
    "#     train_df[\"len_correct_answer\"]\n",
    "    bla[\"max_length\"]\n",
    "    .value_counts()\n",
    "    .to_frame()\n",
    "    .reset_index()\n",
    "#     .rename(columns={\"index\": \"number of words\", \"len_correct_answer\": \"frequency\"})\n",
    ")\n",
    "train.set_format()\n",
    "frequencies"
   ]
  },
  {
   "cell_type": "code",
   "execution_count": 7,
   "id": "8f041212",
   "metadata": {},
   "outputs": [],
   "source": [
    "def get_similarities(sample):\n",
    "    if len(sample[\"correct_answer\"].split(' ')) > 1:\n",
    "        return {\n",
    "             \"correct_to_distractor\": [None],\n",
    "            \"distractor_to_distractor\": [None],\n",
    "        }\n",
    "    try:\n",
    "        return {\n",
    "            \"correct_to_distractor\": [fasttext.similarity(sample[\"correct_answer\"], sample[distractor]) for distractor in [\"distractor1\", \"distractor2\", \"distractor3\"]],\n",
    "            \"distractor_to_distractor\": [fasttext.similarity(sample[\"distractor\"+str(a)], sample[\"distractor\"+str(b)]) for a, b in [(1,2), (1,3), (2,3)]],\n",
    "        }\n",
    "    except KeyError:\n",
    "        return {\n",
    "             \"correct_to_distractor\": [None],\n",
    "            \"distractor_to_distractor\": [None],\n",
    "        }"
   ]
  },
  {
   "cell_type": "code",
   "execution_count": 9,
   "id": "0a4164f3",
   "metadata": {},
   "outputs": [
    {
     "name": "stdout",
     "output_type": "stream",
     "text": [
      "Dataset({\n",
      "    features: ['question', 'distractor3', 'distractor1', 'distractor2', 'correct_answer', 'support'],\n",
      "    num_rows: 10\n",
      "})\n",
      "{'question': 'What type of organism is commonly used in preparation of foods such as cheese and yogurt?', 'distractor3': 'viruses', 'distractor1': 'protozoa', 'distractor2': 'gymnosperms', 'correct_answer': 'mesophilic organisms', 'support': 'Mesophiles grow best in moderate temperature, typically between 25°C and 40°C (77°F and 104°F). Mesophiles are often found living in or on the bodies of humans or other animals. The optimal growth temperature of many pathogenic mesophiles is 37°C (98°F), the normal human body temperature. Mesophilic organisms have important uses in food preparation, including cheese, yogurt, beer and wine.'}\n"
     ]
    }
   ],
   "source": [
    "small = train.select([i for i in range(10)])\n",
    "print(small)\n",
    "print(small[0])"
   ]
  },
  {
   "cell_type": "code",
   "execution_count": 10,
   "id": "7e9466fd",
   "metadata": {},
   "outputs": [
    {
     "data": {
      "text/plain": [
       "{'correct_to_distractor': [None], 'distractor_to_distractor': [None]}"
      ]
     },
     "execution_count": 10,
     "metadata": {},
     "output_type": "execute_result"
    }
   ],
   "source": [
    "get_similarities(small[0])"
   ]
  },
  {
   "cell_type": "code",
   "execution_count": 11,
   "id": "18af4375",
   "metadata": {},
   "outputs": [
    {
     "data": {
      "application/vnd.jupyter.widget-view+json": {
       "model_id": "fb5ba8f58c2c40b2a3c5fc5afca6475a",
       "version_major": 2,
       "version_minor": 0
      },
      "text/plain": [
       "Map (num_proc=2):   0%|          | 0/10 [00:00<?, ? examples/s]"
      ]
     },
     "metadata": {},
     "output_type": "display_data"
    }
   ],
   "source": [
    "similarities = small.map(get_similarities, remove_columns=[\"question\", \"support\"])"
   ]
  },
  {
   "cell_type": "code",
   "execution_count": 15,
   "id": "6faa4a62",
   "metadata": {},
   "outputs": [
    {
     "data": {
      "text/plain": [
       "{'distractor3': 'orbit',\n",
       " 'distractor1': 'comet',\n",
       " 'distractor2': 'meteor',\n",
       " 'correct_answer': 'meteorite',\n",
       " 'correct_to_distractor': [0.5626466870307922,\n",
       "  0.7525315880775452,\n",
       "  0.3713691830635071],\n",
       " 'distractor_to_distractor': [0.5364603996276855,\n",
       "  0.40672171115875244,\n",
       "  0.3779737949371338]}"
      ]
     },
     "execution_count": 15,
     "metadata": {},
     "output_type": "execute_result"
    }
   ],
   "source": [
    "similarities[5]"
   ]
  },
  {
   "cell_type": "code",
   "execution_count": 39,
   "id": "4086010d",
   "metadata": {},
   "outputs": [],
   "source": [
    "def get_max_length(sample):\n",
    "    return {\n",
    "        \"max_length\":max([len(sample[y].split(\" \")) for y in [\"correct_answer\", \"distractor1\", \"distractor2\", \"distractor3\"]])\n",
    "#         \"max_length\":max([len(sample[\"distractor1\"].split(\" \")), len(sample[\"distractor2\"].split(\" \"))])\n",
    "    }\n",
    "# print(train[0][\"distractor1\"])\n",
    "# bla =  train.map(get_max_length)\n",
    "bla.set_format(\"pandas\")"
   ]
  },
  {
   "cell_type": "code",
   "execution_count": 40,
   "id": "901af1bf",
   "metadata": {},
   "outputs": [
    {
     "data": {
      "text/plain": [
       "0        2\n",
       "1        2\n",
       "2        1\n",
       "3        2\n",
       "4        3\n",
       "        ..\n",
       "11674    1\n",
       "11675    3\n",
       "11676    1\n",
       "11677    2\n",
       "11678    1\n",
       "Name: max_length, Length: 11679, dtype: int64"
      ]
     },
     "execution_count": 40,
     "metadata": {},
     "output_type": "execute_result"
    }
   ],
   "source": [
    "bla[\"max_length\"]"
   ]
  },
  {
   "cell_type": "code",
   "execution_count": null,
   "id": "31dc8130",
   "metadata": {},
   "outputs": [],
   "source": []
  }
 ],
 "metadata": {
  "kernelspec": {
   "display_name": "Python 3",
   "language": "python",
   "name": "python3"
  },
  "language_info": {
   "codemirror_mode": {
    "name": "ipython",
    "version": 3
   },
   "file_extension": ".py",
   "mimetype": "text/x-python",
   "name": "python",
   "nbconvert_exporter": "python",
   "pygments_lexer": "ipython3",
   "version": "3.8.10"
  }
 },
 "nbformat": 4,
 "nbformat_minor": 5
}
