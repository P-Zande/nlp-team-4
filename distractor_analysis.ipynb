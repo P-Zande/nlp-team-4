{
 "cells": [
  {
   "cell_type": "code",
   "execution_count": null,
   "id": "35dd41a1",
   "metadata": {},
   "outputs": [],
   "source": [
    "# Run in Colab to install local packages\n",
    "!pip install datasets gensim sentence_transformers tqdm"
   ]
  },
  {
   "cell_type": "code",
   "execution_count": 20,
   "id": "6d6e5f2c",
   "metadata": {},
   "outputs": [],
   "source": [
    "import os\n",
    "import datasets\n",
    "import gensim\n",
    "import gensim.downloader\n",
    "from sentence_transformers import SentenceTransformer, util\n",
    "import pandas as pd\n",
    "import numpy as np\n",
    "import matplotlib.pyplot as plt\n",
    "from tqdm import tqdm"
   ]
  },
  {
   "cell_type": "code",
   "execution_count": 3,
   "id": "a3912657",
   "metadata": {},
   "outputs": [],
   "source": [
    "sciq = datasets.load_dataset(\"allenai/sciq\")"
   ]
  },
  {
   "cell_type": "code",
   "execution_count": 4,
   "id": "b887b21c",
   "metadata": {},
   "outputs": [],
   "source": [
    "train = sciq[\"train\"]"
   ]
  },
  {
   "cell_type": "code",
   "execution_count": 8,
   "id": "5cf04cce",
   "metadata": {},
   "outputs": [
    {
     "name": "stdout",
     "output_type": "stream",
     "text": [
      "{'question': 'What type of organism is commonly used in preparation of foods such as cheese and yogurt?', 'distractor3': 'viruses', 'distractor1': 'protozoa', 'distractor2': 'gymnosperms', 'correct_answer': 'mesophilic organisms', 'support': 'Mesophiles grow best in moderate temperature, typically between 25°C and 40°C (77°F and 104°F). Mesophiles are often found living in or on the bodies of humans or other animals. The optimal growth temperature of many pathogenic mesophiles is 37°C (98°F), the normal human body temperature. Mesophilic organisms have important uses in food preparation, including cheese, yogurt, beer and wine.'}\n"
     ]
    }
   ],
   "source": [
    "print(train[0])"
   ]
  },
  {
   "cell_type": "markdown",
   "id": "332f946a",
   "metadata": {},
   "source": [
    "## Length of answers and distractors"
   ]
  },
  {
   "cell_type": "code",
   "execution_count": 12,
   "id": "930c9fdd",
   "metadata": {},
   "outputs": [
    {
     "data": {
      "application/vnd.jupyter.widget-view+json": {
       "model_id": "622a1800f1524bc0967213f2a3ea4e8a",
       "version_major": 2,
       "version_minor": 0
      },
      "text/plain": [
       "Map:   0%|          | 0/11679 [00:00<?, ? examples/s]"
      ]
     },
     "metadata": {},
     "output_type": "display_data"
    }
   ],
   "source": [
    "def get_max_length(sample):\n",
    "    return {\n",
    "        \"max_length\":max([len(sample[y].split(\" \")) for y in [\"correct_answer\", \"distractor1\", \"distractor2\", \"distractor3\"]])\n",
    "    }\n",
    "train =  train.map(get_max_length, remove_columns=[\"question\", \"support\"])"
   ]
  },
  {
   "cell_type": "code",
   "execution_count": 42,
   "id": "c2e91604",
   "metadata": {},
   "outputs": [
    {
     "data": {
      "text/html": [
       "<div>\n",
       "<style scoped>\n",
       "    .dataframe tbody tr th:only-of-type {\n",
       "        vertical-align: middle;\n",
       "    }\n",
       "\n",
       "    .dataframe tbody tr th {\n",
       "        vertical-align: top;\n",
       "    }\n",
       "\n",
       "    .dataframe thead th {\n",
       "        text-align: right;\n",
       "    }\n",
       "</style>\n",
       "<table border=\"1\" class=\"dataframe\">\n",
       "  <thead>\n",
       "    <tr style=\"text-align: right;\">\n",
       "      <th></th>\n",
       "      <th>index</th>\n",
       "      <th>max_length</th>\n",
       "    </tr>\n",
       "  </thead>\n",
       "  <tbody>\n",
       "    <tr>\n",
       "      <th>0</th>\n",
       "      <td>1</td>\n",
       "      <td>6204</td>\n",
       "    </tr>\n",
       "    <tr>\n",
       "      <th>1</th>\n",
       "      <td>2</td>\n",
       "      <td>4018</td>\n",
       "    </tr>\n",
       "    <tr>\n",
       "      <th>2</th>\n",
       "      <td>3</td>\n",
       "      <td>1142</td>\n",
       "    </tr>\n",
       "    <tr>\n",
       "      <th>3</th>\n",
       "      <td>4</td>\n",
       "      <td>196</td>\n",
       "    </tr>\n",
       "    <tr>\n",
       "      <th>4</th>\n",
       "      <td>5</td>\n",
       "      <td>64</td>\n",
       "    </tr>\n",
       "    <tr>\n",
       "      <th>5</th>\n",
       "      <td>6</td>\n",
       "      <td>26</td>\n",
       "    </tr>\n",
       "    <tr>\n",
       "      <th>6</th>\n",
       "      <td>7</td>\n",
       "      <td>14</td>\n",
       "    </tr>\n",
       "    <tr>\n",
       "      <th>7</th>\n",
       "      <td>8</td>\n",
       "      <td>5</td>\n",
       "    </tr>\n",
       "    <tr>\n",
       "      <th>8</th>\n",
       "      <td>9</td>\n",
       "      <td>3</td>\n",
       "    </tr>\n",
       "    <tr>\n",
       "      <th>9</th>\n",
       "      <td>10</td>\n",
       "      <td>3</td>\n",
       "    </tr>\n",
       "    <tr>\n",
       "      <th>10</th>\n",
       "      <td>11</td>\n",
       "      <td>3</td>\n",
       "    </tr>\n",
       "    <tr>\n",
       "      <th>11</th>\n",
       "      <td>12</td>\n",
       "      <td>1</td>\n",
       "    </tr>\n",
       "  </tbody>\n",
       "</table>\n",
       "</div>"
      ],
      "text/plain": [
       "    index  max_length\n",
       "0       1        6204\n",
       "1       2        4018\n",
       "2       3        1142\n",
       "3       4         196\n",
       "4       5          64\n",
       "5       6          26\n",
       "6       7          14\n",
       "7       8           5\n",
       "8       9           3\n",
       "9      10           3\n",
       "10     11           3\n",
       "11     12           1"
      ]
     },
     "execution_count": 42,
     "metadata": {},
     "output_type": "execute_result"
    }
   ],
   "source": [
    "train_df = train\n",
    "train_df.set_format(\"pandas\")\n",
    "train_df = train_df[:]\n",
    "train_df[\"len_correct_answer\"] = train_df[\"correct_answer\"].apply(lambda x: len(x.split(\" \")))\n",
    "# train_df[\"max_len\"] = train.map(lambda x: max([len(x[y].split(\" \")) for y in [\"correct_answer\", \"distractor1\", \"distractor2\", \"distractor3\"]]))\n",
    "\n",
    "frequencies = (\n",
    "#     train_df[\"len_correct_answer\"]\n",
    "    bla[\"max_length\"]\n",
    "    .value_counts()\n",
    "    .to_frame()\n",
    "    .reset_index()\n",
    "#     .rename(columns={\"index\": \"number of words\", \"len_correct_answer\": \"frequency\"})\n",
    ")\n",
    "train.set_format()\n",
    "frequencies"
   ]
  },
  {
   "cell_type": "markdown",
   "id": "309717b6",
   "metadata": {},
   "source": [
    "## Word embeddings"
   ]
  },
  {
   "cell_type": "code",
   "execution_count": 6,
   "id": "a9a2b83a",
   "metadata": {},
   "outputs": [],
   "source": [
    "# fasttext = gensim.downloader.load(\"fasttext-wiki-news-subwords-300\")\n",
    "# fasttext = gensim.models.KeyedVectors.load(\"ft\") #, mmap='r'"
   ]
  },
  {
   "cell_type": "code",
   "execution_count": 7,
   "id": "fbb7a6f5",
   "metadata": {},
   "outputs": [
    {
     "name": "stdout",
     "output_type": "stream",
     "text": [
      "0.52428013\n",
      "0.52428013\n"
     ]
    }
   ],
   "source": [
    "print(fasttext.similarity('viruses', 'protozoa'))\n",
    "print(fasttext.similarity('protozoa', 'viruses'))"
   ]
  },
  {
   "cell_type": "code",
   "execution_count": 9,
   "id": "a6959b71",
   "metadata": {},
   "outputs": [
    {
     "name": "stdout",
     "output_type": "stream",
     "text": [
      "Dataset({\n",
      "    features: ['question', 'distractor3', 'distractor1', 'distractor2', 'correct_answer', 'support'],\n",
      "    num_rows: 10\n",
      "})\n",
      "{'question': 'What type of organism is commonly used in preparation of foods such as cheese and yogurt?', 'distractor3': 'viruses', 'distractor1': 'protozoa', 'distractor2': 'gymnosperms', 'correct_answer': 'mesophilic organisms', 'support': 'Mesophiles grow best in moderate temperature, typically between 25°C and 40°C (77°F and 104°F). Mesophiles are often found living in or on the bodies of humans or other animals. The optimal growth temperature of many pathogenic mesophiles is 37°C (98°F), the normal human body temperature. Mesophilic organisms have important uses in food preparation, including cheese, yogurt, beer and wine.'}\n"
     ]
    }
   ],
   "source": [
    "small = train.select([i for i in range(10)])\n",
    "print(small)\n",
    "print(small[0])"
   ]
  },
  {
   "cell_type": "code",
   "execution_count": 63,
   "id": "d285fca2",
   "metadata": {},
   "outputs": [
    {
     "name": "stdout",
     "output_type": "stream",
     "text": [
      "1481\n",
      "4997\n",
      "5387\n",
      "5558\n",
      "11108\n",
      "11116\n"
     ]
    }
   ],
   "source": [
    "ansToDist = []\n",
    "distToDist = []\n",
    "for i, sample in enumerate(train):\n",
    "    if sample[\"max_length\"] > 1:\n",
    "        continue\n",
    "    try:\n",
    "        sim = [fasttext.similarity(sample[\"correct_answer\"], sample[distractor]) for distractor in [\"distractor1\", \"distractor2\", \"distractor3\"]]\n",
    "        ansToDist.extend(sim)\n",
    "        if max(sim) >= 1.0:\n",
    "            print(i)\n",
    "        sim = [fasttext.similarity(sample[\"distractor\"+str(a)], sample[\"distractor\"+str(b)]) for a, b in [(1,2), (1,3), (2,3)]]\n",
    "        distToDist.extend(sim)\n",
    "    except KeyError:\n",
    "        continue"
   ]
  },
  {
   "cell_type": "code",
   "execution_count": 48,
   "id": "bfc68926",
   "metadata": {},
   "outputs": [
    {
     "data": {
      "text/plain": [
       "17109"
      ]
     },
     "execution_count": 48,
     "metadata": {},
     "output_type": "execute_result"
    }
   ],
   "source": [
    "len(ansToDist)"
   ]
  },
  {
   "cell_type": "code",
   "execution_count": 54,
   "id": "5c33d598",
   "metadata": {},
   "outputs": [
    {
     "data": {
      "text/html": [
       "<div>\n",
       "<style scoped>\n",
       "    .dataframe tbody tr th:only-of-type {\n",
       "        vertical-align: middle;\n",
       "    }\n",
       "\n",
       "    .dataframe tbody tr th {\n",
       "        vertical-align: top;\n",
       "    }\n",
       "\n",
       "    .dataframe thead th {\n",
       "        text-align: right;\n",
       "    }\n",
       "</style>\n",
       "<table border=\"1\" class=\"dataframe\">\n",
       "  <thead>\n",
       "    <tr style=\"text-align: right;\">\n",
       "      <th></th>\n",
       "      <th>0</th>\n",
       "    </tr>\n",
       "  </thead>\n",
       "  <tbody>\n",
       "    <tr>\n",
       "      <th>count</th>\n",
       "      <td>17109.000000</td>\n",
       "    </tr>\n",
       "    <tr>\n",
       "      <th>mean</th>\n",
       "      <td>0.511500</td>\n",
       "    </tr>\n",
       "    <tr>\n",
       "      <th>std</th>\n",
       "      <td>0.141269</td>\n",
       "    </tr>\n",
       "    <tr>\n",
       "      <th>min</th>\n",
       "      <td>-0.056659</td>\n",
       "    </tr>\n",
       "    <tr>\n",
       "      <th>25%</th>\n",
       "      <td>0.420177</td>\n",
       "    </tr>\n",
       "    <tr>\n",
       "      <th>50%</th>\n",
       "      <td>0.496206</td>\n",
       "    </tr>\n",
       "    <tr>\n",
       "      <th>75%</th>\n",
       "      <td>0.589245</td>\n",
       "    </tr>\n",
       "    <tr>\n",
       "      <th>max</th>\n",
       "      <td>1.000000</td>\n",
       "    </tr>\n",
       "  </tbody>\n",
       "</table>\n",
       "</div>"
      ],
      "text/plain": [
       "                  0\n",
       "count  17109.000000\n",
       "mean       0.511500\n",
       "std        0.141269\n",
       "min       -0.056659\n",
       "25%        0.420177\n",
       "50%        0.496206\n",
       "75%        0.589245\n",
       "max        1.000000"
      ]
     },
     "execution_count": 54,
     "metadata": {},
     "output_type": "execute_result"
    }
   ],
   "source": [
    "ansToDistDF = pd.DataFrame(ansToDist)\n",
    "ansToDistDF.describe()"
   ]
  },
  {
   "cell_type": "code",
   "execution_count": 53,
   "id": "fda550f5",
   "metadata": {},
   "outputs": [
    {
     "data": {
      "text/html": [
       "<div>\n",
       "<style scoped>\n",
       "    .dataframe tbody tr th:only-of-type {\n",
       "        vertical-align: middle;\n",
       "    }\n",
       "\n",
       "    .dataframe tbody tr th {\n",
       "        vertical-align: top;\n",
       "    }\n",
       "\n",
       "    .dataframe thead th {\n",
       "        text-align: right;\n",
       "    }\n",
       "</style>\n",
       "<table border=\"1\" class=\"dataframe\">\n",
       "  <thead>\n",
       "    <tr style=\"text-align: right;\">\n",
       "      <th></th>\n",
       "      <th>0</th>\n",
       "    </tr>\n",
       "  </thead>\n",
       "  <tbody>\n",
       "    <tr>\n",
       "      <th>count</th>\n",
       "      <td>17109.000000</td>\n",
       "    </tr>\n",
       "    <tr>\n",
       "      <th>mean</th>\n",
       "      <td>0.469450</td>\n",
       "    </tr>\n",
       "    <tr>\n",
       "      <th>std</th>\n",
       "      <td>0.139733</td>\n",
       "    </tr>\n",
       "    <tr>\n",
       "      <th>min</th>\n",
       "      <td>-0.020514</td>\n",
       "    </tr>\n",
       "    <tr>\n",
       "      <th>25%</th>\n",
       "      <td>0.377366</td>\n",
       "    </tr>\n",
       "    <tr>\n",
       "      <th>50%</th>\n",
       "      <td>0.456741</td>\n",
       "    </tr>\n",
       "    <tr>\n",
       "      <th>75%</th>\n",
       "      <td>0.544530</td>\n",
       "    </tr>\n",
       "    <tr>\n",
       "      <th>max</th>\n",
       "      <td>1.000000</td>\n",
       "    </tr>\n",
       "  </tbody>\n",
       "</table>\n",
       "</div>"
      ],
      "text/plain": [
       "                  0\n",
       "count  17109.000000\n",
       "mean       0.469450\n",
       "std        0.139733\n",
       "min       -0.020514\n",
       "25%        0.377366\n",
       "50%        0.456741\n",
       "75%        0.544530\n",
       "max        1.000000"
      ]
     },
     "execution_count": 53,
     "metadata": {},
     "output_type": "execute_result"
    }
   ],
   "source": [
    "distToDistDF = pd.DataFrame(distToDist)\n",
    "distToDistDF.describe()"
   ]
  },
  {
   "cell_type": "code",
   "execution_count": 57,
   "id": "4ef1efbd",
   "metadata": {},
   "outputs": [],
   "source": [
    "npAnsToDist = np.array(ansToDist)"
   ]
  },
  {
   "cell_type": "code",
   "execution_count": 69,
   "id": "5459211f",
   "metadata": {},
   "outputs": [
    {
     "data": {
      "text/plain": [
       "(array([  11.,   39.,  323., 1806., 4843., 5349., 2962., 1074.,  341.,\n",
       "         361.]),\n",
       " array([-0.05665937,  0.04900656,  0.1546725 ,  0.26033843,  0.36600438,\n",
       "         0.4716703 ,  0.57733625,  0.6830022 ,  0.7886681 ,  0.8943341 ,\n",
       "         1.        ], dtype=float32),\n",
       " <BarContainer object of 10 artists>)"
      ]
     },
     "execution_count": 69,
     "metadata": {},
     "output_type": "execute_result"
    },
    {
     "data": {
      "image/png": "[encoded data removed]",
      "text/plain": [
       "<Figure size 432x288 with 1 Axes>"
      ]
     },
     "metadata": {
      "needs_background": "light"
     },
     "output_type": "display_data"
    }
   ],
   "source": [
    "plt.hist(npAnsToDist, bins=10)"
   ]
  },
  {
   "cell_type": "code",
   "execution_count": 70,
   "id": "c8a8ac5e",
   "metadata": {},
   "outputs": [
    {
     "data": {
      "text/plain": [
       "(array([  13.,  137.,  987., 3686., 5565., 3900., 1762.,  622.,  194.,\n",
       "         243.]),\n",
       " array([-0.02051357,  0.08153778,  0.18358915,  0.2856405 ,  0.38769186,\n",
       "         0.4897432 ,  0.59179455,  0.6938459 ,  0.7958973 ,  0.8979486 ,\n",
       "         1.        ], dtype=float32),\n",
       " <BarContainer object of 10 artists>)"
      ]
     },
     "execution_count": 70,
     "metadata": {},
     "output_type": "execute_result"
    },
    {
     "data": {
      "image/png": "[encoded data removed]",
      "text/plain": [
       "<Figure size 432x288 with 1 Axes>"
      ]
     },
     "metadata": {
      "needs_background": "light"
     },
     "output_type": "display_data"
    }
   ],
   "source": [
    "plt.hist(distToDist, bins=10)"
   ]
  },
  {
   "cell_type": "markdown",
   "id": "be10e23a",
   "metadata": {},
   "source": [
    "## Sentence embeddings"
   ]
  },
  {
   "cell_type": "code",
   "execution_count": 9,
   "id": "874b0bb3",
   "metadata": {},
   "outputs": [
    {
     "data": {
      "application/vnd.jupyter.widget-view+json": {
       "model_id": "cf72955281b640638f1c8ce15d751092",
       "version_major": 2,
       "version_minor": 0
      },
      "text/plain": [
       "modules.json:   0%|          | 0.00/349 [00:00<?, ?B/s]"
      ]
     },
     "metadata": {},
     "output_type": "display_data"
    },
    {
     "data": {
      "application/vnd.jupyter.widget-view+json": {
       "model_id": "4b8a6346af19493f8f53c2801c0a9281",
       "version_major": 2,
       "version_minor": 0
      },
      "text/plain": [
       "config_sentence_transformers.json:   0%|          | 0.00/116 [00:00<?, ?B/s]"
      ]
     },
     "metadata": {},
     "output_type": "display_data"
    },
    {
     "data": {
      "application/vnd.jupyter.widget-view+json": {
       "model_id": "30931e2548b84abcbc7c57716e38b665",
       "version_major": 2,
       "version_minor": 0
      },
      "text/plain": [
       "README.md:   0%|          | 0.00/10.6k [00:00<?, ?B/s]"
      ]
     },
     "metadata": {},
     "output_type": "display_data"
    },
    {
     "data": {
      "application/vnd.jupyter.widget-view+json": {
       "model_id": "2561e6c214234b7f81769fff0e66df89",
       "version_major": 2,
       "version_minor": 0
      },
      "text/plain": [
       "sentence_bert_config.json:   0%|          | 0.00/53.0 [00:00<?, ?B/s]"
      ]
     },
     "metadata": {},
     "output_type": "display_data"
    },
    {
     "data": {
      "application/vnd.jupyter.widget-view+json": {
       "model_id": "8c2afe64b9d249a988e9da1b18fab98b",
       "version_major": 2,
       "version_minor": 0
      },
      "text/plain": [
       "config.json:   0%|          | 0.00/571 [00:00<?, ?B/s]"
      ]
     },
     "metadata": {},
     "output_type": "display_data"
    },
    {
     "data": {
      "application/vnd.jupyter.widget-view+json": {
       "model_id": "af3acc6f67e84c2bbfbbcd5c83641607",
       "version_major": 2,
       "version_minor": 0
      },
      "text/plain": [
       "model.safetensors:   0%|          | 0.00/438M [00:00<?, ?B/s]"
      ]
     },
     "metadata": {},
     "output_type": "display_data"
    },
    {
     "data": {
      "application/vnd.jupyter.widget-view+json": {
       "model_id": "246e19b55a2e46ebbf59ac16f29e4d6f",
       "version_major": 2,
       "version_minor": 0
      },
      "text/plain": [
       "tokenizer_config.json:   0%|          | 0.00/363 [00:00<?, ?B/s]"
      ]
     },
     "metadata": {},
     "output_type": "display_data"
    },
    {
     "data": {
      "application/vnd.jupyter.widget-view+json": {
       "model_id": "3fd3a016ec7d4664a2ae4e09744987c5",
       "version_major": 2,
       "version_minor": 0
      },
      "text/plain": [
       "vocab.txt:   0%|          | 0.00/232k [00:00<?, ?B/s]"
      ]
     },
     "metadata": {},
     "output_type": "display_data"
    },
    {
     "data": {
      "application/vnd.jupyter.widget-view+json": {
       "model_id": "c850b8ab451949ed9dfdd9f4432468d9",
       "version_major": 2,
       "version_minor": 0
      },
      "text/plain": [
       "tokenizer.json:   0%|          | 0.00/466k [00:00<?, ?B/s]"
      ]
     },
     "metadata": {},
     "output_type": "display_data"
    },
    {
     "data": {
      "application/vnd.jupyter.widget-view+json": {
       "model_id": "533bc85d25e345408b9e479bb986775c",
       "version_major": 2,
       "version_minor": 0
      },
      "text/plain": [
       "special_tokens_map.json:   0%|          | 0.00/239 [00:00<?, ?B/s]"
      ]
     },
     "metadata": {},
     "output_type": "display_data"
    },
    {
     "data": {
      "application/vnd.jupyter.widget-view+json": {
       "model_id": "58be8cfd1dcb4081b320ccf24d7d3688",
       "version_major": 2,
       "version_minor": 0
      },
      "text/plain": [
       "1_Pooling/config.json:   0%|          | 0.00/190 [00:00<?, ?B/s]"
      ]
     },
     "metadata": {},
     "output_type": "display_data"
    }
   ],
   "source": [
    "model = SentenceTransformer(\"all-mpnet-base-v2\") # See for other pretrained models: https://www.sbert.net/docs/pretrained_models.html"
   ]
  },
  {
   "cell_type": "code",
   "execution_count": 16,
   "id": "c33648ee",
   "metadata": {},
   "outputs": [
    {
     "name": "stdout",
     "output_type": "stream",
     "text": [
      "{'distractor3': 'viruses', 'distractor1': 'protozoa', 'distractor2': 'gymnosperms', 'correct_answer': 'mesophilic organisms', 'max_length': 2}\n",
      "[-2.15632617e-02 -8.02733600e-02 -9.92457569e-03 -4.93398309e-02\n",
      " -7.71961128e-03  6.10115705e-03 -2.83632148e-02  6.27047662e-03\n",
      "  5.15939593e-02 -2.11948976e-02 -3.06289122e-02  1.40945138e-02\n",
      " -6.62956163e-02  1.94567516e-02  2.40543690e-02 -5.96627872e-03\n",
      "  5.04675731e-02 -2.54681986e-02 -1.06249273e-01 -1.96286999e-02\n",
      " -6.83179796e-02 -1.50031131e-02  2.75282282e-02 -6.04318120e-02\n",
      "  7.05722496e-02  2.45534088e-02 -3.72297689e-03 -4.96702753e-02\n",
      "  1.95645932e-02 -1.37993693e-02 -2.24583014e-03 -5.60772046e-03\n",
      "  2.02012435e-02 -1.51949869e-02  1.00496118e-06 -2.88647916e-02\n",
      " -3.68663035e-02 -3.72930802e-02 -9.64345597e-03 -1.06541580e-03\n",
      " -8.75620265e-03  1.68595149e-03  1.12800533e-02  3.91934216e-02\n",
      "  2.94562057e-02 -1.74050219e-02  5.23713827e-02 -3.89471576e-02\n",
      " -2.79050861e-02 -3.48614566e-02 -8.30301456e-03  4.78190137e-03\n",
      " -2.15057936e-02 -4.99010645e-02  6.53990507e-02  1.01951227e-01\n",
      "  4.44646180e-03  1.09588578e-02 -3.30846920e-03 -4.59879899e-04\n",
      " -2.21187877e-03  5.47848381e-02  1.19494833e-02  1.88692994e-02\n",
      "  6.07194472e-03 -2.73741018e-02  7.11015686e-02 -4.91051227e-02\n",
      "  7.90084749e-02 -1.13826646e-02 -3.11388187e-02 -4.28684913e-02\n",
      "  2.02380195e-02  2.18227804e-02  3.93349351e-03  3.94023992e-02\n",
      "  4.88377102e-02  3.65556814e-02  3.62687856e-02  4.84090410e-02\n",
      " -5.84584521e-03  5.14860591e-03  1.44073898e-02 -1.41027179e-02\n",
      "  1.36072317e-03  1.68380886e-03  1.08713452e-02 -4.80927415e-02\n",
      "  1.39575661e-03 -1.55559117e-02 -5.38583398e-02 -5.92793617e-03\n",
      " -2.08583046e-02  4.84840348e-02  4.42175753e-03 -5.25981858e-02\n",
      "  1.36358952e-02  3.48385982e-02  1.63993500e-02 -4.89529297e-02\n",
      "  9.40585230e-03 -1.41110457e-02 -1.86908264e-02  2.02631801e-02\n",
      " -2.43206359e-02 -8.21558163e-02 -1.09570716e-02  2.56868768e-02\n",
      "  3.10118776e-02 -6.55373707e-02 -1.51747111e-02  2.14303862e-02\n",
      "  8.07552040e-02  8.16465393e-02  6.27529202e-03  2.76578707e-03\n",
      " -3.10945604e-02 -3.97190303e-02 -4.74618822e-02 -3.58634591e-02\n",
      " -4.60747667e-02  2.82656886e-02  1.14290386e-01  8.33583698e-02\n",
      " -8.99159350e-03  4.48520146e-02 -1.63969607e-03 -3.67459543e-02\n",
      " -4.06928696e-02 -1.25512714e-03  1.21957529e-02  8.78859591e-03\n",
      "  1.19585553e-02  2.74683852e-02 -1.11090513e-02  3.94754075e-02\n",
      "  6.51344433e-02 -4.27429713e-02 -3.33362184e-02 -5.32537661e-02\n",
      "  4.55998778e-02  2.77533662e-02 -7.33183771e-02  5.90297692e-02\n",
      "  2.88350675e-02  2.57098377e-02  4.04202901e-02 -8.61249678e-03\n",
      " -3.08850780e-03 -2.60811932e-02  3.72606935e-03  3.48232090e-02\n",
      "  1.79980639e-02  5.61792925e-02  1.62535124e-02 -2.86999121e-02\n",
      " -7.76704727e-03 -5.06379418e-02 -1.14992158e-02  2.68894676e-02\n",
      " -2.33087912e-02 -1.62940212e-02 -5.25272600e-02 -1.80082638e-02\n",
      " -9.88990813e-03 -5.00441343e-02  1.04288176e-01  1.38545902e-02\n",
      " -4.46907878e-02  6.31283745e-02 -1.21567966e-02 -1.90644767e-02\n",
      "  2.45401058e-02 -6.64838683e-03  5.38328700e-02 -2.60175159e-03\n",
      " -4.57111970e-02  3.83232087e-02  2.63368734e-03 -2.03628242e-02\n",
      "  5.08889630e-02 -1.42607149e-02 -3.95852365e-02 -1.41581567e-02\n",
      "  8.77524726e-03  7.78584555e-03  4.26890366e-02  4.17906605e-03\n",
      "  1.48480656e-02 -2.80900765e-03 -1.01259921e-03 -4.51012427e-04\n",
      "  4.21322417e-03 -1.10341217e-02  2.97433082e-02  1.59335602e-02\n",
      "  2.32967064e-02 -8.60818604e-04 -1.54971275e-02 -5.33505529e-02\n",
      "  1.73170317e-03  2.74557192e-02  6.42691478e-02  6.75298870e-02\n",
      " -2.80618537e-02 -5.71431145e-02 -4.87185642e-03  2.06687655e-02\n",
      " -5.78185432e-02 -1.35737639e-02 -2.27037743e-02 -9.62367747e-03\n",
      " -4.68700938e-03  2.64484901e-02  5.25074452e-02 -6.87493160e-02\n",
      " -1.79713368e-02  4.29284833e-02 -2.12873742e-02  4.12516706e-02\n",
      "  4.91204783e-02  8.07626471e-02 -1.44310771e-02 -2.25852914e-02\n",
      "  5.30442074e-02  3.67112905e-02 -6.93569751e-03  2.49038544e-02\n",
      "  2.10703537e-02 -3.77656594e-02  1.52382199e-02  1.43894898e-02\n",
      "  9.25396290e-03  6.07764209e-03 -6.09898828e-02 -3.38639249e-03\n",
      "  2.43303161e-02 -1.13834739e-02 -2.87083276e-02  4.09351327e-02\n",
      " -3.45099308e-02  5.09938188e-02  8.71263519e-02  2.39836634e-03\n",
      "  8.75128284e-02  2.51477491e-02  5.42133041e-02 -2.56041493e-02\n",
      "  6.32579485e-03  6.16012746e-03 -1.57315675e-02  6.55354606e-03\n",
      " -1.28874369e-02 -4.64850897e-03  3.94628718e-02  1.65316220e-02\n",
      "  1.30906040e-02 -5.92315383e-02  3.47476751e-02  1.18365139e-02\n",
      " -2.72237398e-02  1.58807617e-02  1.07909804e-02 -1.64571740e-02\n",
      " -4.87399800e-03 -3.46716493e-03  9.60012302e-02 -3.65925883e-03\n",
      "  3.73364286e-03 -2.08702832e-02  4.49148640e-02  3.71096004e-03\n",
      "  9.07841511e-03  2.95754243e-02  1.35055380e-02 -2.43322570e-02\n",
      "  7.75042623e-02  1.87391229e-02 -1.25216031e-02  2.73811892e-02\n",
      " -2.98218392e-02  2.70588696e-02 -5.42167909e-02  3.89322005e-02\n",
      " -4.28903624e-02  7.44981244e-02 -4.53506894e-02  1.25995530e-02\n",
      "  3.70736606e-02  4.32550795e-02  2.57432628e-02  3.92710939e-02\n",
      "  2.23035887e-02 -7.15721678e-03 -1.11291520e-02 -1.14588393e-02\n",
      "  1.09435702e-02  1.44546048e-03 -1.69450343e-02  6.70531690e-02\n",
      "  2.26074178e-03  3.29892971e-02  7.63918320e-03  1.02988584e-02\n",
      "  2.32556127e-02  6.51781857e-02  2.74569653e-02 -4.25701924e-02\n",
      "  3.95828718e-03  3.74964401e-02 -4.50846702e-02 -1.00644352e-02\n",
      " -5.60082160e-02  5.47108650e-02  3.28333117e-02  2.27083871e-03\n",
      "  5.96964695e-02  3.40495468e-03  4.95582484e-02 -1.27581367e-02\n",
      "  1.66518167e-02 -3.53895389e-02 -6.32851152e-03  3.84428725e-02\n",
      " -3.41329798e-02  6.26490638e-03 -4.17900039e-03  7.26832170e-03\n",
      "  1.94739178e-02  3.80402096e-02 -3.06981336e-02  3.45354080e-02\n",
      " -2.75476296e-02 -6.49256445e-03 -6.54270174e-03  2.00212840e-02\n",
      " -2.83070914e-02 -1.79361384e-02 -2.21363734e-02 -6.15350455e-02\n",
      "  1.90850056e-03  5.24566174e-02  3.87869924e-02 -4.68279272e-02\n",
      "  7.89533705e-02  9.06838402e-02 -1.49707692e-02 -9.56050307e-03\n",
      " -9.21544060e-02  8.06253105e-02  9.48442332e-03 -3.52459326e-02\n",
      " -5.93913235e-02 -1.49946166e-02 -1.15533751e-02  5.12277260e-02\n",
      "  4.19968460e-03  1.09563982e-02 -7.18985274e-02 -2.48354897e-02\n",
      "  5.91139048e-02 -4.36911955e-02 -3.44074778e-02 -5.06954491e-02\n",
      "  5.92874698e-02 -6.53598271e-03  3.87464929e-03  3.40255052e-02\n",
      "  4.25234325e-02 -4.18204069e-02  4.52542631e-03  5.25598973e-03\n",
      " -3.85925062e-02  1.23791853e-02  2.44709309e-02  6.70826584e-02\n",
      "  1.31621938e-02  1.18034398e-02 -3.21287028e-02  9.56465583e-03\n",
      "  3.86660323e-02  5.93898371e-02  6.62065856e-03 -6.70375302e-02\n",
      " -6.57654833e-03 -2.93531734e-02 -4.46070321e-02 -3.21211629e-02\n",
      "  5.13080321e-02 -7.47445375e-02  1.02963168e-02 -1.45516554e-02\n",
      " -2.65913121e-02 -6.84898943e-02 -2.60112109e-03 -3.74371074e-02\n",
      "  4.45490256e-02  2.64221430e-03 -2.39266530e-02  7.09467456e-02\n",
      " -2.84189153e-02  3.31721306e-02  8.07222258e-03 -1.00882528e-02\n",
      " -4.86004166e-02 -5.03200144e-02  3.41000222e-02 -1.08194575e-02\n",
      "  2.52663996e-02  2.61496305e-02  4.11772802e-02 -8.24394375e-02\n",
      "  2.63890601e-03 -3.28767896e-02 -1.08164325e-02 -5.69282994e-02\n",
      " -2.24154796e-02 -2.54355883e-03 -1.48221850e-03 -7.48444349e-02\n",
      " -3.11263092e-02  2.06747325e-03  3.01595312e-02 -3.34567130e-02\n",
      "  2.51474819e-04 -6.80622738e-03  1.92559659e-02 -1.00685023e-02\n",
      " -7.15996977e-03  3.49041000e-02 -6.27435446e-02 -6.67510331e-02\n",
      "  4.10971716e-02 -3.94504368e-02  2.21093390e-02 -4.76410948e-02\n",
      " -6.20891899e-03 -4.54915538e-02  2.40164306e-02 -2.43755449e-02\n",
      " -1.19290520e-02  5.00742309e-02  2.85326261e-02  1.02571808e-02\n",
      " -4.68179444e-03  2.16678511e-02 -4.16294970e-02 -4.70417039e-03\n",
      " -3.51003893e-02  1.73935108e-02 -9.60320421e-03 -1.00469394e-02\n",
      " -1.03968598e-01  6.93562254e-02  7.35773221e-02  4.55190167e-02\n",
      "  2.11744253e-02 -4.84950840e-03 -2.08728518e-02  1.06704822e-02\n",
      " -4.78834659e-02  1.89870838e-02 -1.17789889e-02  1.94647983e-02\n",
      " -4.02187183e-03  8.40818882e-03 -7.48748053e-03 -7.37438053e-02\n",
      " -1.84335634e-02 -1.00341467e-02 -4.65194024e-02 -1.11136371e-02\n",
      " -1.09005244e-02  2.89474372e-02  8.07351340e-03 -3.82129662e-03\n",
      " -5.81796058e-02  1.17115974e-02 -3.91464643e-02  3.30925621e-02\n",
      " -3.36001851e-02 -2.45296713e-02  1.41075822e-02 -7.30411410e-02\n",
      "  4.26380895e-02 -7.13029737e-03  1.98693350e-02 -4.01084162e-02\n",
      "  6.74269535e-03  2.11427752e-02  1.50922248e-02  4.34811860e-02\n",
      "  1.68126300e-02  3.29440981e-02  1.01951305e-02  3.59449126e-02\n",
      " -2.46691369e-02  5.73220998e-02 -1.24247903e-02 -2.37677339e-02\n",
      " -3.89013290e-02 -3.37020084e-02  1.87179614e-02  6.94502378e-03\n",
      " -8.41002911e-03  2.50380635e-05 -2.34552636e-03  1.62454192e-02\n",
      " -5.17414622e-02  2.97979880e-02 -5.69092073e-02  5.02044372e-02\n",
      " -4.46187444e-02  7.72387460e-02  4.54338267e-02  4.21204232e-02\n",
      " -1.09827630e-02 -7.02384338e-02 -1.78498365e-02  1.65667079e-05\n",
      "  1.03511289e-02 -1.98686905e-02 -9.65549052e-03 -6.13434948e-02\n",
      "  2.11290289e-02  3.78601206e-03  5.04833274e-02 -2.31315754e-03\n",
      " -8.29277858e-02  3.87339108e-02  1.01901432e-02 -3.01141497e-02\n",
      "  1.30653651e-02  1.21580968e-02 -3.95651860e-03  3.91682275e-02\n",
      " -3.64460312e-02  4.26365472e-02  1.96341202e-02 -5.80217764e-02\n",
      "  1.18664904e-02  6.64221775e-03 -7.05857798e-02  3.46133485e-02\n",
      "  1.54640879e-02  2.71578487e-02 -6.07056506e-02  2.50504240e-02\n",
      "  4.95063653e-03 -6.81951419e-02 -3.87198757e-03  8.10502842e-02\n",
      " -4.46651131e-02 -3.31810601e-02  2.34039444e-02 -4.53581026e-33\n",
      " -1.71486977e-02 -7.36223254e-03  1.18462997e-03  6.97389841e-02\n",
      "  9.93100926e-03 -7.99212046e-03 -1.28012486e-02 -1.66264009e-02\n",
      "  6.45700097e-03  1.52115719e-02  3.19610536e-02  1.01365456e-02\n",
      " -5.25467156e-04 -8.98779929e-02  1.90116260e-02  3.33824120e-02\n",
      "  1.88962873e-02  1.98747832e-02 -3.17691527e-02  4.85921204e-02\n",
      "  2.45757811e-02 -3.24320048e-02 -4.53374647e-02  1.68536906e-03\n",
      "  4.03495282e-02  2.06941273e-02  5.19079156e-02 -3.80968712e-02\n",
      " -5.44370972e-02 -4.08782950e-03  2.00173296e-02 -2.02390421e-02\n",
      "  1.15436055e-02 -1.09664360e-02 -9.99264885e-03  4.62891050e-02\n",
      " -5.49088679e-02  3.55528407e-02 -1.34369694e-02  2.02176310e-02\n",
      " -6.83880895e-02 -4.01512347e-02 -1.38722230e-02 -4.56625931e-02\n",
      "  9.75297485e-03  3.92352752e-02 -8.13599862e-03 -2.37968042e-02\n",
      "  5.55924028e-02  3.16510014e-02 -2.18189396e-02  3.41110379e-02\n",
      "  4.85220924e-02 -3.27832624e-02  4.99349535e-02 -2.99017522e-02\n",
      "  6.82843551e-02 -1.47334635e-02  4.98315766e-02  6.87612295e-02\n",
      "  5.87467756e-03  3.60914841e-02  5.68752401e-02 -8.26843025e-04\n",
      " -3.84007059e-02  1.24598937e-02  3.59989218e-02  2.92503182e-02\n",
      "  1.10093974e-01  1.03282863e-02  3.17885019e-02 -2.96801943e-02\n",
      "  5.89965144e-03  2.03485824e-02 -2.59425845e-02 -1.39623219e-02\n",
      "  1.26920771e-02  4.05689962e-02 -1.04163177e-02 -7.33522475e-02\n",
      "  1.10479654e-03 -4.25587296e-02  4.06206176e-02 -3.22296321e-02\n",
      " -1.14509873e-02 -2.79113039e-04  8.77584389e-04 -1.88946035e-02\n",
      " -3.54003683e-02 -1.63518377e-02  2.71862391e-02 -2.56220959e-02\n",
      " -1.52993454e-02 -1.99382361e-02  1.46695822e-02  5.66488784e-03\n",
      "  4.54843864e-02 -1.28841326e-02 -3.13922241e-02  8.07158649e-02\n",
      "  2.32791808e-02 -3.65693099e-03 -2.18260102e-02 -3.89716006e-03\n",
      " -5.41957542e-02 -1.89584829e-02 -4.85923178e-02  1.27245521e-03\n",
      " -2.99159307e-02 -1.28711648e-02 -8.49622209e-03 -2.33102906e-02\n",
      " -5.81841357e-02  3.65263075e-02 -4.93093720e-03 -2.31241994e-02\n",
      " -2.11603139e-02 -3.75870354e-02  2.85815578e-02 -1.13184256e-02\n",
      "  1.95410498e-03  2.51542665e-02  3.63623188e-03  3.03733852e-02\n",
      " -1.88259874e-02 -5.63199595e-02  4.23854310e-03  6.64020255e-02\n",
      " -4.98668998e-02 -2.55303830e-03 -1.77456457e-02 -7.99429603e-03\n",
      "  1.71007585e-07  1.70784723e-02  1.24938844e-03  4.74876398e-03\n",
      "  3.85001325e-03  2.69050896e-02  1.70499701e-02  2.32470501e-03\n",
      " -2.52554510e-02 -8.37738067e-02 -6.65911436e-02 -1.23009749e-03\n",
      " -4.78035808e-02 -2.05037799e-02  1.50100328e-02  1.20640628e-03\n",
      "  1.59677435e-02  5.30864447e-02 -3.33859213e-02  3.43854278e-02\n",
      "  3.70206661e-03 -2.86174379e-03  4.93772291e-02 -1.24796862e-02\n",
      "  1.61916520e-02 -2.01929789e-02 -4.36724015e-02 -1.09235728e-02\n",
      " -5.94101939e-03  5.61885796e-02  1.43026803e-02 -6.18397221e-02\n",
      " -3.35692428e-02 -2.73836497e-02  1.79500561e-02 -2.59381775e-02\n",
      "  4.17643739e-03  5.11178887e-03 -2.90359017e-02 -3.16269286e-02\n",
      "  9.64952260e-03 -8.10938142e-03 -9.44223162e-03 -1.92213785e-02\n",
      " -7.71454498e-02 -4.54699546e-02  5.08866310e-02 -2.87188627e-02\n",
      " -3.81190628e-02 -1.03089362e-02  4.11669984e-02 -2.15768982e-02\n",
      "  3.60661857e-02  4.71261051e-03 -1.58486720e-02 -2.64693834e-02\n",
      " -3.54525708e-02  6.46751432e-05 -1.43360943e-02  2.68910192e-02\n",
      " -2.57047429e-03 -2.37536449e-02  1.50368558e-02 -6.12848066e-02\n",
      " -2.38044951e-02  3.16641964e-02 -2.52732914e-03 -3.94117907e-02\n",
      "  8.75256276e-35  4.69374768e-02 -8.44291225e-03 -2.34498153e-03\n",
      "  2.61384305e-02 -1.63405687e-02 -2.74796598e-02 -6.07991815e-02\n",
      "  3.19500528e-02 -7.95008428e-03  5.43625131e-02 -7.77772162e-03]\n"
     ]
    }
   ],
   "source": [
    "samp = train[0]\n",
    "print(samp)\n",
    "emb = model.encode(samp['correct_answer'])\n",
    "print(emb)"
   ]
  },
  {
   "cell_type": "code",
   "execution_count": null,
   "id": "6f3786ef",
   "metadata": {},
   "outputs": [
    {
     "name": "stderr",
     "output_type": "stream",
     "text": [
      " 30%|██▉       | 3449/11679 [01:28<03:27, 39.74it/s]"
     ]
    }
   ],
   "source": [
    "ansToDist = []\n",
    "distToDist = []\n",
    "\n",
    "for i, sample in enumerate(tqdm(train)):\n",
    "    keys_to_encode = [\"correct_answer\", \"distractor1\", \"distractor2\", \"distractor3\"]\n",
    "    strings_to_encode = [sample[j] for j in keys_to_encode]\n",
    "    embeddings = {key: value for key, value in zip(keys_to_encode, model.encode(strings_to_encode))}\n",
    "\n",
    "    sim = [util.cos_sim(embeddings[\"correct_answer\"], embeddings[distractor]) for distractor in [\"distractor1\", \"distractor2\", \"distractor3\"]]\n",
    "    ansToDist.extend(sim)\n",
    "    \n",
    "    sim = [util.cos_sim(embeddings[\"distractor\"+str(a)],embeddings[\"distractor\"+str(b)]) for a, b in [(1,2), (1,3), (2,3)]]\n",
    "    distToDist.extend(sim)\n",
    "\n",
    "ansToDist = [tensor.item() for tensor in ansToDist]\n",
    "distToDist = [tensor.item() for tensor in distToDist]"
   ]
  },
  {
   "cell_type": "code",
   "execution_count": 39,
   "id": "0b3d34e2",
   "metadata": {},
   "outputs": [
    {
     "data": {
      "text/html": [
       "<div>\n",
       "<style scoped>\n",
       "    .dataframe tbody tr th:only-of-type {\n",
       "        vertical-align: middle;\n",
       "    }\n",
       "\n",
       "    .dataframe tbody tr th {\n",
       "        vertical-align: top;\n",
       "    }\n",
       "\n",
       "    .dataframe thead th {\n",
       "        text-align: right;\n",
       "    }\n",
       "</style>\n",
       "<table border=\"1\" class=\"dataframe\">\n",
       "  <thead>\n",
       "    <tr style=\"text-align: right;\">\n",
       "      <th></th>\n",
       "      <th>0</th>\n",
       "    </tr>\n",
       "  </thead>\n",
       "  <tbody>\n",
       "    <tr>\n",
       "      <th>count</th>\n",
       "      <td>18612.000000</td>\n",
       "    </tr>\n",
       "    <tr>\n",
       "      <th>mean</th>\n",
       "      <td>0.413126</td>\n",
       "    </tr>\n",
       "    <tr>\n",
       "      <th>std</th>\n",
       "      <td>0.153072</td>\n",
       "    </tr>\n",
       "    <tr>\n",
       "      <th>min</th>\n",
       "      <td>-0.045217</td>\n",
       "    </tr>\n",
       "    <tr>\n",
       "      <th>25%</th>\n",
       "      <td>0.301925</td>\n",
       "    </tr>\n",
       "    <tr>\n",
       "      <th>50%</th>\n",
       "      <td>0.397536</td>\n",
       "    </tr>\n",
       "    <tr>\n",
       "      <th>75%</th>\n",
       "      <td>0.505426</td>\n",
       "    </tr>\n",
       "    <tr>\n",
       "      <th>max</th>\n",
       "      <td>1.000000</td>\n",
       "    </tr>\n",
       "  </tbody>\n",
       "</table>\n",
       "</div>"
      ],
      "text/plain": [
       "                  0\n",
       "count  18612.000000\n",
       "mean       0.413126\n",
       "std        0.153072\n",
       "min       -0.045217\n",
       "25%        0.301925\n",
       "50%        0.397536\n",
       "75%        0.505426\n",
       "max        1.000000"
      ]
     },
     "execution_count": 39,
     "metadata": {},
     "output_type": "execute_result"
    }
   ],
   "source": [
    "ansToDistDF = pd.DataFrame(ansToDist)\n",
    "ansToDistDF.describe()"
   ]
  },
  {
   "cell_type": "code",
   "execution_count": 38,
   "id": "8c575717",
   "metadata": {},
   "outputs": [
    {
     "data": {
      "text/html": [
       "<div>\n",
       "<style scoped>\n",
       "    .dataframe tbody tr th:only-of-type {\n",
       "        vertical-align: middle;\n",
       "    }\n",
       "\n",
       "    .dataframe tbody tr th {\n",
       "        vertical-align: top;\n",
       "    }\n",
       "\n",
       "    .dataframe thead th {\n",
       "        text-align: right;\n",
       "    }\n",
       "</style>\n",
       "<table border=\"1\" class=\"dataframe\">\n",
       "  <thead>\n",
       "    <tr style=\"text-align: right;\">\n",
       "      <th></th>\n",
       "      <th>0</th>\n",
       "    </tr>\n",
       "  </thead>\n",
       "  <tbody>\n",
       "    <tr>\n",
       "      <th>count</th>\n",
       "      <td>18612.000000</td>\n",
       "    </tr>\n",
       "    <tr>\n",
       "      <th>mean</th>\n",
       "      <td>0.375359</td>\n",
       "    </tr>\n",
       "    <tr>\n",
       "      <th>std</th>\n",
       "      <td>0.148541</td>\n",
       "    </tr>\n",
       "    <tr>\n",
       "      <th>min</th>\n",
       "      <td>-0.015780</td>\n",
       "    </tr>\n",
       "    <tr>\n",
       "      <th>25%</th>\n",
       "      <td>0.266006</td>\n",
       "    </tr>\n",
       "    <tr>\n",
       "      <th>50%</th>\n",
       "      <td>0.357596</td>\n",
       "    </tr>\n",
       "    <tr>\n",
       "      <th>75%</th>\n",
       "      <td>0.469792</td>\n",
       "    </tr>\n",
       "    <tr>\n",
       "      <th>max</th>\n",
       "      <td>1.000000</td>\n",
       "    </tr>\n",
       "  </tbody>\n",
       "</table>\n",
       "</div>"
      ],
      "text/plain": [
       "                  0\n",
       "count  18612.000000\n",
       "mean       0.375359\n",
       "std        0.148541\n",
       "min       -0.015780\n",
       "25%        0.266006\n",
       "50%        0.357596\n",
       "75%        0.469792\n",
       "max        1.000000"
      ]
     },
     "execution_count": 38,
     "metadata": {},
     "output_type": "execute_result"
    }
   ],
   "source": [
    "distToDistDF = pd.DataFrame(distToDist)\n",
    "distToDistDF.describe()"
   ]
  },
  {
   "cell_type": "code",
   "execution_count": null,
   "id": "8d7a306f",
   "metadata": {},
   "outputs": [],
   "source": [
    "plt.hist(ansToDist, bins=10)"
   ]
  },
  {
   "cell_type": "code",
   "execution_count": null,
   "id": "b7141c61",
   "metadata": {},
   "outputs": [],
   "source": [
    "plt.hist(distToDist, bins=10)"
   ]
  },
  {
   "cell_type": "markdown",
   "id": "c73c7daf",
   "metadata": {},
   "source": [
    "## Old code"
   ]
  },
  {
   "cell_type": "code",
   "execution_count": 7,
   "id": "f7553694",
   "metadata": {},
   "outputs": [],
   "source": [
    "def get_similarities(sample):\n",
    "    if len(sample[\"correct_answer\"].split(' ')) > 1:\n",
    "        return {\n",
    "             \"correct_to_distractor\": [None],\n",
    "            \"distractor_to_distractor\": [None],\n",
    "        }\n",
    "    try:\n",
    "        return {\n",
    "            \"correct_to_distractor\": [fasttext.similarity(sample[\"correct_answer\"], sample[distractor]) for distractor in [\"distractor1\", \"distractor2\", \"distractor3\"]],\n",
    "            \"distractor_to_distractor\": [fasttext.similarity(sample[\"distractor\"+str(a)], sample[\"distractor\"+str(b)]) for a, b in [(1,2), (1,3), (2,3)]],\n",
    "        }\n",
    "    except KeyError:\n",
    "        return {\n",
    "             \"correct_to_distractor\": [None],\n",
    "            \"distractor_to_distractor\": [None],\n",
    "        }"
   ]
  },
  {
   "cell_type": "markdown",
   "id": "db514d45",
   "metadata": {},
   "source": [
    "### Finding bad samples"
   ]
  },
  {
   "cell_type": "code",
   "execution_count": null,
   "id": "aaa8633f",
   "metadata": {},
   "outputs": [],
   "source": [
    "np.argmax(npAnsToDist)\n",
    "train[1481]"
   ]
  }
 ],
 "metadata": {
  "kernelspec": {
   "display_name": "Python 3",
   "language": "python",
   "name": "python3"
  },
  "language_info": {
   "codemirror_mode": {
    "name": "ipython",
    "version": 3
   },
   "file_extension": ".py",
   "mimetype": "text/x-python",
   "name": "python",
   "nbconvert_exporter": "python",
   "pygments_lexer": "ipython3",
   "version": "3.8.10"
  }
 },
 "nbformat": 4,
 "nbformat_minor": 5
}
