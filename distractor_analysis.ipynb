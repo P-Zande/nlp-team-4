{
 "cells": [
  {
   "cell_type": "code",
   "execution_count": null,
   "id": "35dd41a1",
   "metadata": {},
   "outputs": [],
   "source": [
    "# Run in Colab to install local packages\n",
    "!pip install datasets gensim sentence_transformers tqdm"
   ]
  },
  {
   "cell_type": "code",
   "execution_count": 1,
   "id": "6d6e5f2c",
   "metadata": {},
   "outputs": [],
   "source": [
    "import matplotlib.pyplot as plt\n",
    "import numpy as np\n",
    "import pandas as pd\n",
    "from sentence_transformers import SentenceTransformer, util\n",
    "from tqdm import tqdm\n",
    "\n",
    "import datasets"
   ]
  },
  {
   "cell_type": "code",
   "execution_count": 2,
   "id": "a3912657",
   "metadata": {},
   "outputs": [],
   "source": [
    "sciq = datasets.load_dataset(\"allenai/sciq\")"
   ]
  },
  {
   "cell_type": "code",
   "execution_count": 3,
   "id": "b887b21c",
   "metadata": {},
   "outputs": [],
   "source": [
    "train = sciq[\"train\"]"
   ]
  },
  {
   "cell_type": "code",
   "execution_count": 8,
   "id": "5cf04cce",
   "metadata": {},
   "outputs": [
    {
     "name": "stdout",
     "output_type": "stream",
     "text": [
      "{'question': 'What type of organism is commonly used in preparation of foods such as cheese and yogurt?', 'distractor3': 'viruses', 'distractor1': 'protozoa', 'distractor2': 'gymnosperms', 'correct_answer': 'mesophilic organisms', 'support': 'Mesophiles grow best in moderate temperature, typically between 25°C and 40°C (77°F and 104°F). Mesophiles are often found living in or on the bodies of humans or other animals. The optimal growth temperature of many pathogenic mesophiles is 37°C (98°F), the normal human body temperature. Mesophilic organisms have important uses in food preparation, including cheese, yogurt, beer and wine.'}\n"
     ]
    }
   ],
   "source": [
    "print(train[0])"
   ]
  },
  {
   "cell_type": "code",
   "execution_count": 44,
   "id": "e5836b56",
   "metadata": {},
   "outputs": [],
   "source": [
    "inference = pd.read_csv(\"inference_quantitative_analysis.tsv\", sep=\"\\t\", header=0)"
   ]
  },
  {
   "cell_type": "code",
   "execution_count": 45,
   "id": "63250324",
   "metadata": {},
   "outputs": [
    {
     "data": {
      "text/html": [
       "<div>\n",
       "<style scoped>\n",
       "    .dataframe tbody tr th:only-of-type {\n",
       "        vertical-align: middle;\n",
       "    }\n",
       "\n",
       "    .dataframe tbody tr th {\n",
       "        vertical-align: top;\n",
       "    }\n",
       "\n",
       "    .dataframe thead th {\n",
       "        text-align: right;\n",
       "    }\n",
       "</style>\n",
       "<table border=\"1\" class=\"dataframe\">\n",
       "  <thead>\n",
       "    <tr style=\"text-align: right;\">\n",
       "      <th></th>\n",
       "      <th>id</th>\n",
       "      <th>case</th>\n",
       "      <th>support</th>\n",
       "      <th>answer</th>\n",
       "      <th>question</th>\n",
       "      <th>distractor1</th>\n",
       "      <th>distractor2</th>\n",
       "      <th>distractor3</th>\n",
       "    </tr>\n",
       "  </thead>\n",
       "  <tbody>\n",
       "    <tr>\n",
       "      <th>0</th>\n",
       "      <td>0</td>\n",
       "      <td>ground_truth</td>\n",
       "      <td>Oxidants and Reductants Compounds that are cap...</td>\n",
       "      <td>oxidants</td>\n",
       "      <td>Compounds that are capable of accepting electr...</td>\n",
       "      <td>antioxidants</td>\n",
       "      <td>Oxygen</td>\n",
       "      <td>residues</td>\n",
       "    </tr>\n",
       "    <tr>\n",
       "      <th>1</th>\n",
       "      <td>0</td>\n",
       "      <td>answer_given</td>\n",
       "      <td>Oxidants and Reductants Compounds that are cap...</td>\n",
       "      <td>oxidants</td>\n",
       "      <td>What are compounds that are capable of accepti...</td>\n",
       "      <td>acids</td>\n",
       "      <td>enzymes</td>\n",
       "      <td>reductants</td>\n",
       "    </tr>\n",
       "    <tr>\n",
       "      <th>2</th>\n",
       "      <td>1</td>\n",
       "      <td>ground_truth</td>\n",
       "      <td>But transgenic animals just have one novel gen...</td>\n",
       "      <td>clone</td>\n",
       "      <td>What term in biotechnology means a genetically...</td>\n",
       "      <td>adult</td>\n",
       "      <td>male</td>\n",
       "      <td>phenotype</td>\n",
       "    </tr>\n",
       "    <tr>\n",
       "      <th>3</th>\n",
       "      <td>1</td>\n",
       "      <td>answer_given</td>\n",
       "      <td>But transgenic animals just have one novel gen...</td>\n",
       "      <td>clone</td>\n",
       "      <td>What is a genetically exact copy of an organis...</td>\n",
       "      <td>replica</td>\n",
       "      <td>duplicate</td>\n",
       "      <td>replica</td>\n",
       "    </tr>\n",
       "    <tr>\n",
       "      <th>4</th>\n",
       "      <td>2</td>\n",
       "      <td>ground_truth</td>\n",
       "      <td>Figure 29.7 Vertebrata are characterized by th...</td>\n",
       "      <td>backbone</td>\n",
       "      <td>Vertebrata are characterized by the presence o...</td>\n",
       "      <td>Bones</td>\n",
       "      <td>Muscles</td>\n",
       "      <td>Thumbs</td>\n",
       "    </tr>\n",
       "    <tr>\n",
       "      <th>...</th>\n",
       "      <td>...</td>\n",
       "      <td>...</td>\n",
       "      <td>...</td>\n",
       "      <td>...</td>\n",
       "      <td>...</td>\n",
       "      <td>...</td>\n",
       "      <td>...</td>\n",
       "      <td>...</td>\n",
       "    </tr>\n",
       "    <tr>\n",
       "      <th>1756</th>\n",
       "      <td>996</td>\n",
       "      <td>answer_given</td>\n",
       "      <td>Short-period comets come from the Kuiper belt,...</td>\n",
       "      <td>kuiper belt</td>\n",
       "      <td>Where do short-period comets come from?</td>\n",
       "      <td>Oort cloud</td>\n",
       "      <td>Kuiper-Oort cloud</td>\n",
       "      <td>Kuiper-Kuiper cloud</td>\n",
       "    </tr>\n",
       "    <tr>\n",
       "      <th>1757</th>\n",
       "      <td>998</td>\n",
       "      <td>ground_truth</td>\n",
       "      <td>Atoms with unstable nuclei are radioactive. To...</td>\n",
       "      <td>radioactive</td>\n",
       "      <td>What are atoms with unstable nuclei are consid...</td>\n",
       "      <td>ions</td>\n",
       "      <td>unstable</td>\n",
       "      <td>destructive</td>\n",
       "    </tr>\n",
       "    <tr>\n",
       "      <th>1758</th>\n",
       "      <td>998</td>\n",
       "      <td>answer_given</td>\n",
       "      <td>Atoms with unstable nuclei are radioactive. To...</td>\n",
       "      <td>radioactive</td>\n",
       "      <td>Atoms with unstable nuclei are what?</td>\n",
       "      <td>toxic</td>\n",
       "      <td>radioactive</td>\n",
       "      <td>unstable</td>\n",
       "    </tr>\n",
       "    <tr>\n",
       "      <th>1759</th>\n",
       "      <td>999</td>\n",
       "      <td>ground_truth</td>\n",
       "      <td>On land, sulfur is deposited in four major way...</td>\n",
       "      <td>sulfur dioxide (so2)</td>\n",
       "      <td>In what form is atmospheric sulfur found?</td>\n",
       "      <td>formaldehyde</td>\n",
       "      <td>sulfuric acid</td>\n",
       "      <td>sulfur monoxide</td>\n",
       "    </tr>\n",
       "    <tr>\n",
       "      <th>1760</th>\n",
       "      <td>999</td>\n",
       "      <td>answer_given</td>\n",
       "      <td>On land, sulfur is deposited in four major way...</td>\n",
       "      <td>sulfur dioxide (so2)</td>\n",
       "      <td>What is the name of the form of sulfur found i...</td>\n",
       "      <td>sulfur monoxide</td>\n",
       "      <td>sulfur chloride</td>\n",
       "      <td>sulfur nitrate</td>\n",
       "    </tr>\n",
       "  </tbody>\n",
       "</table>\n",
       "<p>1761 rows × 8 columns</p>\n",
       "</div>"
      ],
      "text/plain": [
       "       id          case                                            support  \\\n",
       "0       0  ground_truth  Oxidants and Reductants Compounds that are cap...   \n",
       "1       0  answer_given  Oxidants and Reductants Compounds that are cap...   \n",
       "2       1  ground_truth  But transgenic animals just have one novel gen...   \n",
       "3       1  answer_given  But transgenic animals just have one novel gen...   \n",
       "4       2  ground_truth  Figure 29.7 Vertebrata are characterized by th...   \n",
       "...   ...           ...                                                ...   \n",
       "1756  996  answer_given  Short-period comets come from the Kuiper belt,...   \n",
       "1757  998  ground_truth  Atoms with unstable nuclei are radioactive. To...   \n",
       "1758  998  answer_given  Atoms with unstable nuclei are radioactive. To...   \n",
       "1759  999  ground_truth  On land, sulfur is deposited in four major way...   \n",
       "1760  999  answer_given  On land, sulfur is deposited in four major way...   \n",
       "\n",
       "                    answer                                           question  \\\n",
       "0                 oxidants  Compounds that are capable of accepting electr...   \n",
       "1                 oxidants  What are compounds that are capable of accepti...   \n",
       "2                    clone  What term in biotechnology means a genetically...   \n",
       "3                    clone  What is a genetically exact copy of an organis...   \n",
       "4                 backbone  Vertebrata are characterized by the presence o...   \n",
       "...                    ...                                                ...   \n",
       "1756           kuiper belt            Where do short-period comets come from?   \n",
       "1757           radioactive  What are atoms with unstable nuclei are consid...   \n",
       "1758           radioactive               Atoms with unstable nuclei are what?   \n",
       "1759  sulfur dioxide (so2)          In what form is atmospheric sulfur found?   \n",
       "1760  sulfur dioxide (so2)  What is the name of the form of sulfur found i...   \n",
       "\n",
       "          distractor1        distractor2          distractor3  \n",
       "0        antioxidants             Oxygen             residues  \n",
       "1               acids            enzymes           reductants  \n",
       "2               adult               male            phenotype  \n",
       "3             replica          duplicate              replica  \n",
       "4               Bones            Muscles               Thumbs  \n",
       "...               ...                ...                  ...  \n",
       "1756       Oort cloud  Kuiper-Oort cloud  Kuiper-Kuiper cloud  \n",
       "1757             ions           unstable          destructive  \n",
       "1758            toxic        radioactive             unstable  \n",
       "1759     formaldehyde      sulfuric acid      sulfur monoxide  \n",
       "1760  sulfur monoxide    sulfur chloride       sulfur nitrate  \n",
       "\n",
       "[1761 rows x 8 columns]"
      ]
     },
     "execution_count": 45,
     "metadata": {},
     "output_type": "execute_result"
    }
   ],
   "source": [
    "inference"
   ]
  },
  {
   "cell_type": "markdown",
   "id": "9ea67978",
   "metadata": {},
   "source": [
    "## Length of answers and distractors"
   ]
  },
  {
   "cell_type": "code",
   "execution_count": 4,
   "id": "eb048679",
   "metadata": {},
   "outputs": [],
   "source": [
    "def get_max_length(sample):\n",
    "    return {\n",
    "        \"max_length\": max(\n",
    "            [len(sample[y].split(\" \")) for y in [\"correct_answer\", \"distractor1\", \"distractor2\", \"distractor3\"]]\n",
    "        )\n",
    "    }\n",
    "\n",
    "\n",
    "train = train.map(get_max_length, remove_columns=[\"question\", \"support\"])"
   ]
  },
  {
   "cell_type": "code",
   "execution_count": 42,
   "id": "c2e91604",
   "metadata": {},
   "outputs": [
    {
     "data": {
      "text/html": [
       "<div>\n",
       "<style scoped>\n",
       "    .dataframe tbody tr th:only-of-type {\n",
       "        vertical-align: middle;\n",
       "    }\n",
       "\n",
       "    .dataframe tbody tr th {\n",
       "        vertical-align: top;\n",
       "    }\n",
       "\n",
       "    .dataframe thead th {\n",
       "        text-align: right;\n",
       "    }\n",
       "</style>\n",
       "<table border=\"1\" class=\"dataframe\">\n",
       "  <thead>\n",
       "    <tr style=\"text-align: right;\">\n",
       "      <th></th>\n",
       "      <th>index</th>\n",
       "      <th>max_length</th>\n",
       "    </tr>\n",
       "  </thead>\n",
       "  <tbody>\n",
       "    <tr>\n",
       "      <th>0</th>\n",
       "      <td>1</td>\n",
       "      <td>6204</td>\n",
       "    </tr>\n",
       "    <tr>\n",
       "      <th>1</th>\n",
       "      <td>2</td>\n",
       "      <td>4018</td>\n",
       "    </tr>\n",
       "    <tr>\n",
       "      <th>2</th>\n",
       "      <td>3</td>\n",
       "      <td>1142</td>\n",
       "    </tr>\n",
       "    <tr>\n",
       "      <th>3</th>\n",
       "      <td>4</td>\n",
       "      <td>196</td>\n",
       "    </tr>\n",
       "    <tr>\n",
       "      <th>4</th>\n",
       "      <td>5</td>\n",
       "      <td>64</td>\n",
       "    </tr>\n",
       "    <tr>\n",
       "      <th>5</th>\n",
       "      <td>6</td>\n",
       "      <td>26</td>\n",
       "    </tr>\n",
       "    <tr>\n",
       "      <th>6</th>\n",
       "      <td>7</td>\n",
       "      <td>14</td>\n",
       "    </tr>\n",
       "    <tr>\n",
       "      <th>7</th>\n",
       "      <td>8</td>\n",
       "      <td>5</td>\n",
       "    </tr>\n",
       "    <tr>\n",
       "      <th>8</th>\n",
       "      <td>9</td>\n",
       "      <td>3</td>\n",
       "    </tr>\n",
       "    <tr>\n",
       "      <th>9</th>\n",
       "      <td>10</td>\n",
       "      <td>3</td>\n",
       "    </tr>\n",
       "    <tr>\n",
       "      <th>10</th>\n",
       "      <td>11</td>\n",
       "      <td>3</td>\n",
       "    </tr>\n",
       "    <tr>\n",
       "      <th>11</th>\n",
       "      <td>12</td>\n",
       "      <td>1</td>\n",
       "    </tr>\n",
       "  </tbody>\n",
       "</table>\n",
       "</div>"
      ],
      "text/plain": [
       "    index  max_length\n",
       "0       1        6204\n",
       "1       2        4018\n",
       "2       3        1142\n",
       "3       4         196\n",
       "4       5          64\n",
       "5       6          26\n",
       "6       7          14\n",
       "7       8           5\n",
       "8       9           3\n",
       "9      10           3\n",
       "10     11           3\n",
       "11     12           1"
      ]
     },
     "execution_count": 42,
     "metadata": {},
     "output_type": "execute_result"
    }
   ],
   "source": [
    "train_df = train\n",
    "train_df.set_format(\"pandas\")\n",
    "train_df = train_df[:]\n",
    "train_df[\"len_correct_answer\"] = train_df[\"correct_answer\"].apply(lambda x: len(x.split(\" \")))\n",
    "# train_df[\"max_len\"] = train.map(lambda x: max([len(x[y].split(\" \")) for y in [\"correct_answer\", \"distractor1\", \"distractor2\", \"distractor3\"]]))\n",
    "\n",
    "frequencies = (\n",
    "    #     train_df[\"len_correct_answer\"]\n",
    "    bla[\"max_length\"].value_counts().to_frame().reset_index()\n",
    "    #     .rename(columns={\"index\": \"number of words\", \"len_correct_answer\": \"frequency\"})\n",
    ")\n",
    "train.set_format()\n",
    "frequencies"
   ]
  },
  {
   "cell_type": "markdown",
   "id": "04e3f1b1",
   "metadata": {},
   "source": [
    "## Word embeddings"
   ]
  },
  {
   "cell_type": "code",
   "execution_count": 6,
   "id": "a9a2b83a",
   "metadata": {},
   "outputs": [],
   "source": [
    "# fasttext = gensim.downloader.load(\"fasttext-wiki-news-subwords-300\")\n",
    "# fasttext = gensim.models.KeyedVectors.load(\"ft\") #, mmap='r'"
   ]
  },
  {
   "cell_type": "code",
   "execution_count": 7,
   "id": "fbb7a6f5",
   "metadata": {},
   "outputs": [
    {
     "name": "stdout",
     "output_type": "stream",
     "text": [
      "0.52428013\n",
      "0.52428013\n"
     ]
    }
   ],
   "source": [
    "print(fasttext.similarity(\"viruses\", \"protozoa\"))\n",
    "print(fasttext.similarity(\"protozoa\", \"viruses\"))"
   ]
  },
  {
   "cell_type": "code",
   "execution_count": 9,
   "id": "a6959b71",
   "metadata": {},
   "outputs": [
    {
     "name": "stdout",
     "output_type": "stream",
     "text": [
      "Dataset({\n",
      "    features: ['question', 'distractor3', 'distractor1', 'distractor2', 'correct_answer', 'support'],\n",
      "    num_rows: 10\n",
      "})\n",
      "{'question': 'What type of organism is commonly used in preparation of foods such as cheese and yogurt?', 'distractor3': 'viruses', 'distractor1': 'protozoa', 'distractor2': 'gymnosperms', 'correct_answer': 'mesophilic organisms', 'support': 'Mesophiles grow best in moderate temperature, typically between 25°C and 40°C (77°F and 104°F). Mesophiles are often found living in or on the bodies of humans or other animals. The optimal growth temperature of many pathogenic mesophiles is 37°C (98°F), the normal human body temperature. Mesophilic organisms have important uses in food preparation, including cheese, yogurt, beer and wine.'}\n"
     ]
    }
   ],
   "source": [
    "small = train.select([i for i in range(10)])\n",
    "print(small)\n",
    "print(small[0])"
   ]
  },
  {
   "cell_type": "code",
   "execution_count": 63,
   "id": "d285fca2",
   "metadata": {},
   "outputs": [
    {
     "name": "stdout",
     "output_type": "stream",
     "text": [
      "1481\n",
      "4997\n",
      "5387\n",
      "5558\n",
      "11108\n",
      "11116\n"
     ]
    }
   ],
   "source": [
    "ansToDist = []\n",
    "distToDist = []\n",
    "for i, sample in enumerate(train):\n",
    "    if sample[\"max_length\"] > 1:\n",
    "        continue\n",
    "    try:\n",
    "        sim = [\n",
    "            fasttext.similarity(sample[\"correct_answer\"], sample[distractor])\n",
    "            for distractor in [\"distractor1\", \"distractor2\", \"distractor3\"]\n",
    "        ]\n",
    "        ansToDist.extend(sim)\n",
    "        if max(sim) >= 1.0:\n",
    "            print(i)\n",
    "        sim = [\n",
    "            fasttext.similarity(sample[\"distractor\" + str(a)], sample[\"distractor\" + str(b)])\n",
    "            for a, b in [(1, 2), (1, 3), (2, 3)]\n",
    "        ]\n",
    "        distToDist.extend(sim)\n",
    "    except KeyError:\n",
    "        continue"
   ]
  },
  {
   "cell_type": "code",
   "execution_count": 48,
   "id": "bfc68926",
   "metadata": {},
   "outputs": [
    {
     "data": {
      "text/plain": [
       "17109"
      ]
     },
     "execution_count": 48,
     "metadata": {},
     "output_type": "execute_result"
    }
   ],
   "source": [
    "len(ansToDist)"
   ]
  },
  {
   "cell_type": "code",
   "execution_count": 54,
   "id": "5c33d598",
   "metadata": {},
   "outputs": [
    {
     "data": {
      "text/html": [
       "<div>\n",
       "<style scoped>\n",
       "    .dataframe tbody tr th:only-of-type {\n",
       "        vertical-align: middle;\n",
       "    }\n",
       "\n",
       "    .dataframe tbody tr th {\n",
       "        vertical-align: top;\n",
       "    }\n",
       "\n",
       "    .dataframe thead th {\n",
       "        text-align: right;\n",
       "    }\n",
       "</style>\n",
       "<table border=\"1\" class=\"dataframe\">\n",
       "  <thead>\n",
       "    <tr style=\"text-align: right;\">\n",
       "      <th></th>\n",
       "      <th>0</th>\n",
       "    </tr>\n",
       "  </thead>\n",
       "  <tbody>\n",
       "    <tr>\n",
       "      <th>count</th>\n",
       "      <td>17109.000000</td>\n",
       "    </tr>\n",
       "    <tr>\n",
       "      <th>mean</th>\n",
       "      <td>0.511500</td>\n",
       "    </tr>\n",
       "    <tr>\n",
       "      <th>std</th>\n",
       "      <td>0.141269</td>\n",
       "    </tr>\n",
       "    <tr>\n",
       "      <th>min</th>\n",
       "      <td>-0.056659</td>\n",
       "    </tr>\n",
       "    <tr>\n",
       "      <th>25%</th>\n",
       "      <td>0.420177</td>\n",
       "    </tr>\n",
       "    <tr>\n",
       "      <th>50%</th>\n",
       "      <td>0.496206</td>\n",
       "    </tr>\n",
       "    <tr>\n",
       "      <th>75%</th>\n",
       "      <td>0.589245</td>\n",
       "    </tr>\n",
       "    <tr>\n",
       "      <th>max</th>\n",
       "      <td>1.000000</td>\n",
       "    </tr>\n",
       "  </tbody>\n",
       "</table>\n",
       "</div>"
      ],
      "text/plain": [
       "                  0\n",
       "count  17109.000000\n",
       "mean       0.511500\n",
       "std        0.141269\n",
       "min       -0.056659\n",
       "25%        0.420177\n",
       "50%        0.496206\n",
       "75%        0.589245\n",
       "max        1.000000"
      ]
     },
     "execution_count": 54,
     "metadata": {},
     "output_type": "execute_result"
    }
   ],
   "source": [
    "ansToDistDF = pd.DataFrame(ansToDist)\n",
    "ansToDistDF.describe()"
   ]
  },
  {
   "cell_type": "code",
   "execution_count": 53,
   "id": "fda550f5",
   "metadata": {},
   "outputs": [
    {
     "data": {
      "text/html": [
       "<div>\n",
       "<style scoped>\n",
       "    .dataframe tbody tr th:only-of-type {\n",
       "        vertical-align: middle;\n",
       "    }\n",
       "\n",
       "    .dataframe tbody tr th {\n",
       "        vertical-align: top;\n",
       "    }\n",
       "\n",
       "    .dataframe thead th {\n",
       "        text-align: right;\n",
       "    }\n",
       "</style>\n",
       "<table border=\"1\" class=\"dataframe\">\n",
       "  <thead>\n",
       "    <tr style=\"text-align: right;\">\n",
       "      <th></th>\n",
       "      <th>0</th>\n",
       "    </tr>\n",
       "  </thead>\n",
       "  <tbody>\n",
       "    <tr>\n",
       "      <th>count</th>\n",
       "      <td>17109.000000</td>\n",
       "    </tr>\n",
       "    <tr>\n",
       "      <th>mean</th>\n",
       "      <td>0.469450</td>\n",
       "    </tr>\n",
       "    <tr>\n",
       "      <th>std</th>\n",
       "      <td>0.139733</td>\n",
       "    </tr>\n",
       "    <tr>\n",
       "      <th>min</th>\n",
       "      <td>-0.020514</td>\n",
       "    </tr>\n",
       "    <tr>\n",
       "      <th>25%</th>\n",
       "      <td>0.377366</td>\n",
       "    </tr>\n",
       "    <tr>\n",
       "      <th>50%</th>\n",
       "      <td>0.456741</td>\n",
       "    </tr>\n",
       "    <tr>\n",
       "      <th>75%</th>\n",
       "      <td>0.544530</td>\n",
       "    </tr>\n",
       "    <tr>\n",
       "      <th>max</th>\n",
       "      <td>1.000000</td>\n",
       "    </tr>\n",
       "  </tbody>\n",
       "</table>\n",
       "</div>"
      ],
      "text/plain": [
       "                  0\n",
       "count  17109.000000\n",
       "mean       0.469450\n",
       "std        0.139733\n",
       "min       -0.020514\n",
       "25%        0.377366\n",
       "50%        0.456741\n",
       "75%        0.544530\n",
       "max        1.000000"
      ]
     },
     "execution_count": 53,
     "metadata": {},
     "output_type": "execute_result"
    }
   ],
   "source": [
    "distToDistDF = pd.DataFrame(distToDist)\n",
    "distToDistDF.describe()"
   ]
  },
  {
   "cell_type": "code",
   "execution_count": 57,
   "id": "4ef1efbd",
   "metadata": {},
   "outputs": [],
   "source": [
    "npAnsToDist = np.array(ansToDist)"
   ]
  },
  {
   "cell_type": "code",
   "execution_count": 69,
   "id": "5459211f",
   "metadata": {},
   "outputs": [
    {
     "data": {
      "text/plain": [
       "(array([  11.,   39.,  323., 1806., 4843., 5349., 2962., 1074.,  341.,\n",
       "         361.]),\n",
       " array([-0.05665937,  0.04900656,  0.1546725 ,  0.26033843,  0.36600438,\n",
       "         0.4716703 ,  0.57733625,  0.6830022 ,  0.7886681 ,  0.8943341 ,\n",
       "         1.        ], dtype=float32),\n",
       " <BarContainer object of 10 artists>)"
      ]
     },
     "execution_count": 69,
     "metadata": {},
     "output_type": "execute_result"
    },
    {
     "data": {
      "image/png": "[encoded data removed]",
      "text/plain": [
       "<Figure size 432x288 with 1 Axes>"
      ]
     },
     "metadata": {
      "needs_background": "light"
     },
     "output_type": "display_data"
    }
   ],
   "source": [
    "plt.hist(npAnsToDist, bins=10)"
   ]
  },
  {
   "cell_type": "code",
   "execution_count": 70,
   "id": "c8a8ac5e",
   "metadata": {},
   "outputs": [
    {
     "data": {
      "text/plain": [
       "(array([  13.,  137.,  987., 3686., 5565., 3900., 1762.,  622.,  194.,\n",
       "         243.]),\n",
       " array([-0.02051357,  0.08153778,  0.18358915,  0.2856405 ,  0.38769186,\n",
       "         0.4897432 ,  0.59179455,  0.6938459 ,  0.7958973 ,  0.8979486 ,\n",
       "         1.        ], dtype=float32),\n",
       " <BarContainer object of 10 artists>)"
      ]
     },
     "execution_count": 70,
     "metadata": {},
     "output_type": "execute_result"
    },
    {
     "data": {
      "image/png": "[encoded data removed]",
      "text/plain": [
       "<Figure size 432x288 with 1 Axes>"
      ]
     },
     "metadata": {
      "needs_background": "light"
     },
     "output_type": "display_data"
    }
   ],
   "source": [
    "plt.hist(distToDist, bins=10)"
   ]
  },
  {
   "cell_type": "markdown",
   "id": "32b75401",
   "metadata": {},
   "source": [
    "## Sentence embeddings"
   ]
  },
  {
   "cell_type": "code",
   "execution_count": 5,
   "id": "44003a32",
   "metadata": {},
   "outputs": [],
   "source": [
    "model = SentenceTransformer(\n",
    "    \"all-mpnet-base-v2\"\n",
    ")  # See for other pretrained models: https://www.sbert.net/docs/pretrained_models.html"
   ]
  },
  {
   "cell_type": "code",
   "execution_count": 8,
   "id": "767b1ed2",
   "metadata": {},
   "outputs": [],
   "source": [
    "sample = train[0]\n",
    "strings_to_encode = [sample[j] for j in keys_to_encode]\n",
    "embeddings = {key: value for key, value in zip(keys_to_encode, model.encode(strings_to_encode), strict=False)}"
   ]
  },
  {
   "cell_type": "code",
   "execution_count": 25,
   "id": "b4ba5fb4",
   "metadata": {},
   "outputs": [
    {
     "name": "stdout",
     "output_type": "stream",
     "text": [
      "[tensor([[0.4363]]), tensor([[0.2316]]), tensor([[0.1706]])]\n",
      "tensor([[0.4363, 0.2316, 0.1706]])\n",
      "[[0.43632895 0.23158763 0.17062837]]\n",
      "[0.43632895, 0.23158763, 0.17062837]\n"
     ]
    }
   ],
   "source": [
    "bla = []\n",
    "sim1 = [\n",
    "    util.cos_sim(embeddings[\"correct_answer\"], embeddings[distractor])\n",
    "    for distractor in [\"distractor1\", \"distractor2\", \"distractor3\"]\n",
    "]\n",
    "print(sim1)\n",
    "sim2 = util.cos_sim(\n",
    "    embeddings[\"correct_answer\"],\n",
    "    np.array([embeddings[distractor] for distractor in [\"distractor1\", \"distractor2\", \"distractor3\"]]),\n",
    ")\n",
    "print(sim2)\n",
    "print(sim2.numpy())\n",
    "bla.extend(sim2.numpy()[0])\n",
    "print(bla)"
   ]
  },
  {
   "cell_type": "code",
   "execution_count": 36,
   "id": "d30e0094",
   "metadata": {},
   "outputs": [
    {
     "name": "stderr",
     "output_type": "stream",
     "text": [
      "100%|██████████| 11679/11679 [04:36<00:00, 42.25it/s]\n"
     ]
    }
   ],
   "source": [
    "ansToDist = []\n",
    "distToDist = []\n",
    "lowAnsToDistSimIndices = []\n",
    "lowDistToDistSimIndices = []\n",
    "\n",
    "keys_to_encode = [\"correct_answer\", \"distractor1\", \"distractor2\", \"distractor3\"]\n",
    "for i, sample in enumerate(tqdm(train)):\n",
    "    strings_to_encode = [sample[j] for j in keys_to_encode]\n",
    "    embeddings = {key: value for key, value in zip(keys_to_encode, model.encode(strings_to_encode), strict=False)}\n",
    "\n",
    "    #     sim = [util.cos_sim(embeddings[\"correct_answer\"], embeddings[distractor]) for distractor in [\"distractor1\", \"distractor2\", \"distractor3\"]]\n",
    "    sim = util.cos_sim(\n",
    "        embeddings[\"correct_answer\"],\n",
    "        np.array([embeddings[distractor] for distractor in [\"distractor1\", \"distractor2\", \"distractor3\"]]),\n",
    "    )\n",
    "    sim = sim.numpy()[0]\n",
    "    if min(sim) <= 0.0:\n",
    "        lowAnsToDistSimIndices.append(i)\n",
    "    ansToDist.extend(sim)\n",
    "\n",
    "    sim = [\n",
    "        util.cos_sim(embeddings[\"distractor\" + str(a)], embeddings[\"distractor\" + str(b)]).item()\n",
    "        for a, b in [(1, 2), (1, 3), (2, 3)]\n",
    "    ]\n",
    "    if min(sim) <= 0.0:\n",
    "        lowDistToDistSimIndices.append(i)\n",
    "    distToDist.extend(sim)\n",
    "\n",
    "# ansToDist = [tensor.item() for tensor in ansToDist]\n",
    "# distToDist = [tensor.item() for tensor in distToDist]"
   ]
  },
  {
   "cell_type": "code",
   "execution_count": 41,
   "id": "a84e2031",
   "metadata": {},
   "outputs": [
    {
     "name": "stdout",
     "output_type": "stream",
     "text": [
      "[{'distractor3': 'the same', 'distractor1': 'neither', 'distractor2': 'low frequency waves', 'correct_answer': 'high frequency waves', 'max_length': 3}, {'distractor3': 'food chains', 'distractor1': 'biomes', 'distractor2': 'spontaneous mutation', 'correct_answer': 'ecological pyramids', 'max_length': 2}, {'distractor3': 'storage capacity', 'distractor1': 'heat regulation', 'distractor2': 'potentiation', 'correct_answer': 'space efficiency', 'max_length': 2}, {'distractor3': 'osmosis', 'distractor1': 'sporozoans', 'distractor2': 'fluctuations', 'correct_answer': 'plasmolysis', 'max_length': 1}, {'distractor3': 'step impact or bending', 'distractor1': 'overuse', 'distractor2': 'spiral impact or bending', 'correct_answer': 'sideways impact or bending', 'max_length': 4}, {'distractor3': 'life cycle', 'distractor1': 'minute race', 'distractor2': 'slowing rate', 'correct_answer': 'development fate', 'max_length': 2}, {'distractor3': 'the ozone layer', 'distractor1': 'solar winds', 'distractor2': 'asteroids', 'correct_answer': 'differences in heating', 'max_length': 3}, {'distractor3': 'sensitive immunity', 'distractor1': 'active respiration', 'distractor2': 'growth rate', 'correct_answer': 'active immunity', 'max_length': 2}, {'distractor3': 'increase acceleration', 'distractor1': 'decrease acceleration', 'distractor2': 'vertical', 'correct_answer': 'none', 'max_length': 2}, {'distractor3': 'both', 'distractor1': 'chromosomal cells', 'distractor2': 'Prokaryotic Cells', 'correct_answer': 'eukaryotic cells', 'max_length': 2}, {'distractor3': 'van der waals force', 'distractor1': 'diffusion', 'distractor2': 'transfusion', 'correct_answer': 'surface tension', 'max_length': 4}, {'distractor3': 'adipocytes', 'distractor1': 'coenocyte', 'distractor2': 'tapetum', 'correct_answer': 'syncytium', 'max_length': 1}, {'distractor3': 'pancreatic enzymes', 'distractor1': 'pus', 'distractor2': 'progesterone', 'correct_answer': 'sebum', 'max_length': 2}, {'distractor3': 'high energy', 'distractor1': 'orbital lobes', 'distractor2': 'outer orbitals', 'correct_answer': 'low-energy', 'max_length': 2}, {'distractor3': 'antiviral drugs', 'distractor1': 'antioxidants', 'distractor2': 'stem cell therapy', 'correct_answer': 'avoid offending foods', 'max_length': 3}, {'distractor3': 'nanoparticles', 'distractor1': 'modulators', 'distractor2': 'mitosis', 'correct_answer': 'endocytosis', 'max_length': 1}, {'distractor3': 'wig', 'distractor1': 'prop', 'distractor2': 'trousers', 'correct_answer': 'dredge', 'max_length': 1}, {'distractor3': 'reaction ratio', 'distractor1': 'initiation', 'distractor2': 'transaction', 'correct_answer': 'completion', 'max_length': 2}]\n",
      "[{'distractor3': 'the same', 'distractor1': 'neither', 'distractor2': 'low frequency waves', 'correct_answer': 'high frequency waves', 'max_length': 3}, {'distractor3': 'sunrise and sunset', 'distractor1': 'weather forecast', 'distractor2': 'margin of error', 'correct_answer': 'tidal change', 'max_length': 3}, {'distractor3': 'exoskeleton', 'distractor1': 'none of the above', 'distractor2': 'hydrostatic skeleton', 'correct_answer': 'endoskeleton', 'max_length': 4}, {'distractor3': 'migration change', 'distractor1': 'volcanic eruptions', 'distractor2': 'earthquakes', 'correct_answer': 'climate change', 'max_length': 2}, {'distractor3': 'digestive process', 'distractor1': 'lifespan', 'distractor2': 'blink rate', 'correct_answer': 'heart rate', 'max_length': 2}, {'distractor3': 'proteins wall', 'distractor1': 'flowers', 'distractor2': 'roots', 'correct_answer': 'cell wall', 'max_length': 2}, {'distractor3': 'bioaccumulation', 'distractor1': 'hemeostasis', 'distractor2': 'optimization', 'correct_answer': 'thermoregulation', 'max_length': 1}, {'distractor3': 'flux impulses', 'distractor1': 'sciatica', 'distractor2': 'electricity', 'correct_answer': 'nerve impulses', 'max_length': 2}, {'distractor3': 'earth rotation', 'distractor1': 'gravity', 'distractor2': 'pipes', 'correct_answer': 'ocean currents', 'max_length': 2}, {'distractor3': 'step impact or bending', 'distractor1': 'overuse', 'distractor2': 'spiral impact or bending', 'correct_answer': 'sideways impact or bending', 'max_length': 4}, {'distractor3': 'sensitive immunity', 'distractor1': 'active respiration', 'distractor2': 'growth rate', 'correct_answer': 'active immunity', 'max_length': 2}, {'distractor3': 'both', 'distractor1': 'chromosomal cells', 'distractor2': 'Prokaryotic Cells', 'correct_answer': 'eukaryotic cells', 'max_length': 2}, {'distractor3': 'van der waals force', 'distractor1': 'diffusion', 'distractor2': 'transfusion', 'correct_answer': 'surface tension', 'max_length': 4}, {'distractor3': 'axial tilt', 'distractor1': 'seasons', 'distractor2': 'centrifugal effect', 'correct_answer': 'coriolis effect', 'max_length': 2}, {'distractor3': 'fossil age', 'distractor1': 'temperature', 'distractor2': 'microwave power', 'correct_answer': 'radioactivity', 'max_length': 2}, {'distractor3': 'hypochlorous', 'distractor1': 'momentous', 'distractor2': 'monomers', 'correct_answer': 'adventitious', 'max_length': 1}, {'distractor3': 'biome size', 'distractor1': 'consumers', 'distractor2': 'predators', 'correct_answer': 'carrying capacity', 'max_length': 2}, {'distractor3': 'endorphins and adrenaline', 'distractor1': 'tropic and subtropic', 'distractor2': 'pheromones and enzymes', 'correct_answer': 'tropic and sex', 'max_length': 3}, {'distractor3': 'magnetic force', 'distractor1': 'mass', 'distractor2': 'full-life', 'correct_answer': 'half-life', 'max_length': 2}, {'distractor3': 'construct of energy', 'distractor1': \"Murphy's Law\", 'distractor2': 'law of inertia', 'correct_answer': 'conservation of energy', 'max_length': 3}, {'distractor3': 'lock and key model', 'distractor1': 'vessel - substrate complex', 'distractor2': 'nucleus - substrate complex', 'correct_answer': 'enzyme - substrate complex', 'max_length': 4}, {'distractor3': 'the phytoflagellate', 'distractor1': 'the host', 'distractor2': 'the spermatophyte', 'correct_answer': 'the photosynthesizer', 'max_length': 2}, {'distractor3': 'separation anxiety', 'distractor1': 'de facto segregation', 'distractor2': 'law of equals', 'correct_answer': 'law of segregation', 'max_length': 3}, {'distractor3': 'photosynthesis cell', 'distractor1': 'ova', 'distractor2': 'glial cell', 'correct_answer': 'generative cell', 'max_length': 2}, {'distractor3': 'protection', 'distractor1': 'water uptake', 'distractor2': 'food gathering', 'correct_answer': 'gas exchange', 'max_length': 2}, {'distractor3': 'lower', 'distractor1': 'cell wall', 'distractor2': 'upper', 'correct_answer': 'nucleus', 'max_length': 2}]\n"
     ]
    }
   ],
   "source": [
    "print([train[i] for i in lowAnsToDistSimIndices])\n",
    "print([train[i] for i in lowDistToDistSimIndices])"
   ]
  },
  {
   "cell_type": "code",
   "execution_count": 37,
   "id": "749e5cf7",
   "metadata": {},
   "outputs": [
    {
     "data": {
      "text/html": [
       "<div>\n",
       "<style scoped>\n",
       "    .dataframe tbody tr th:only-of-type {\n",
       "        vertical-align: middle;\n",
       "    }\n",
       "\n",
       "    .dataframe tbody tr th {\n",
       "        vertical-align: top;\n",
       "    }\n",
       "\n",
       "    .dataframe thead th {\n",
       "        text-align: right;\n",
       "    }\n",
       "</style>\n",
       "<table border=\"1\" class=\"dataframe\">\n",
       "  <thead>\n",
       "    <tr style=\"text-align: right;\">\n",
       "      <th></th>\n",
       "      <th>0</th>\n",
       "    </tr>\n",
       "  </thead>\n",
       "  <tbody>\n",
       "    <tr>\n",
       "      <th>count</th>\n",
       "      <td>35037.000000</td>\n",
       "    </tr>\n",
       "    <tr>\n",
       "      <th>mean</th>\n",
       "      <td>0.455076</td>\n",
       "    </tr>\n",
       "    <tr>\n",
       "      <th>std</th>\n",
       "      <td>0.179614</td>\n",
       "    </tr>\n",
       "    <tr>\n",
       "      <th>min</th>\n",
       "      <td>-0.083836</td>\n",
       "    </tr>\n",
       "    <tr>\n",
       "      <th>25%</th>\n",
       "      <td>0.321572</td>\n",
       "    </tr>\n",
       "    <tr>\n",
       "      <th>50%</th>\n",
       "      <td>0.439873</td>\n",
       "    </tr>\n",
       "    <tr>\n",
       "      <th>75%</th>\n",
       "      <td>0.580109</td>\n",
       "    </tr>\n",
       "    <tr>\n",
       "      <th>max</th>\n",
       "      <td>1.000000</td>\n",
       "    </tr>\n",
       "  </tbody>\n",
       "</table>\n",
       "</div>"
      ],
      "text/plain": [
       "                  0\n",
       "count  35037.000000\n",
       "mean       0.455076\n",
       "std        0.179614\n",
       "min       -0.083836\n",
       "25%        0.321572\n",
       "50%        0.439873\n",
       "75%        0.580109\n",
       "max        1.000000"
      ]
     },
     "execution_count": 37,
     "metadata": {},
     "output_type": "execute_result"
    }
   ],
   "source": [
    "ansToDistDF = pd.DataFrame(ansToDist)\n",
    "ansToDistDF.describe()"
   ]
  },
  {
   "cell_type": "code",
   "execution_count": 38,
   "id": "f14adc63",
   "metadata": {},
   "outputs": [
    {
     "data": {
      "text/html": [
       "<div>\n",
       "<style scoped>\n",
       "    .dataframe tbody tr th:only-of-type {\n",
       "        vertical-align: middle;\n",
       "    }\n",
       "\n",
       "    .dataframe tbody tr th {\n",
       "        vertical-align: top;\n",
       "    }\n",
       "\n",
       "    .dataframe thead th {\n",
       "        text-align: right;\n",
       "    }\n",
       "</style>\n",
       "<table border=\"1\" class=\"dataframe\">\n",
       "  <thead>\n",
       "    <tr style=\"text-align: right;\">\n",
       "      <th></th>\n",
       "      <th>0</th>\n",
       "    </tr>\n",
       "  </thead>\n",
       "  <tbody>\n",
       "    <tr>\n",
       "      <th>count</th>\n",
       "      <td>35037.000000</td>\n",
       "    </tr>\n",
       "    <tr>\n",
       "      <th>mean</th>\n",
       "      <td>0.410491</td>\n",
       "    </tr>\n",
       "    <tr>\n",
       "      <th>std</th>\n",
       "      <td>0.174615</td>\n",
       "    </tr>\n",
       "    <tr>\n",
       "      <th>min</th>\n",
       "      <td>-0.073038</td>\n",
       "    </tr>\n",
       "    <tr>\n",
       "      <th>25%</th>\n",
       "      <td>0.278083</td>\n",
       "    </tr>\n",
       "    <tr>\n",
       "      <th>50%</th>\n",
       "      <td>0.393122</td>\n",
       "    </tr>\n",
       "    <tr>\n",
       "      <th>75%</th>\n",
       "      <td>0.529450</td>\n",
       "    </tr>\n",
       "    <tr>\n",
       "      <th>max</th>\n",
       "      <td>1.000000</td>\n",
       "    </tr>\n",
       "  </tbody>\n",
       "</table>\n",
       "</div>"
      ],
      "text/plain": [
       "                  0\n",
       "count  35037.000000\n",
       "mean       0.410491\n",
       "std        0.174615\n",
       "min       -0.073038\n",
       "25%        0.278083\n",
       "50%        0.393122\n",
       "75%        0.529450\n",
       "max        1.000000"
      ]
     },
     "execution_count": 38,
     "metadata": {},
     "output_type": "execute_result"
    }
   ],
   "source": [
    "distToDistDF = pd.DataFrame(distToDist)\n",
    "distToDistDF.describe()"
   ]
  },
  {
   "cell_type": "code",
   "execution_count": 43,
   "id": "fcda72c5",
   "metadata": {},
   "outputs": [
    {
     "data": {
      "text/plain": [
       "(array([  46.,  619., 3298., 6856., 7915., 6890., 4870., 2987., 1297.,\n",
       "         259.]),\n",
       " array([-0.08383643,  0.02454724,  0.1329309 ,  0.24131457,  0.34969824,\n",
       "         0.4580819 ,  0.56646557,  0.67484924,  0.7832329 ,  0.89161657,\n",
       "         1.00000024]),\n",
       " <BarContainer object of 10 artists>)"
      ]
     },
     "execution_count": 43,
     "metadata": {},
     "output_type": "execute_result"
    },
    {
     "data": {
      "image/png": "[encoded data removed]",
      "text/plain": [
       "<Figure size 432x288 with 1 Axes>"
      ]
     },
     "metadata": {
      "needs_background": "light"
     },
     "output_type": "display_data"
    }
   ],
   "source": [
    "plt.hist(ansToDist, bins=10)"
   ]
  },
  {
   "cell_type": "code",
   "execution_count": 44,
   "id": "1f7e8f14",
   "metadata": {},
   "outputs": [
    {
     "data": {
      "text/plain": [
       "(array([  98., 1256., 5273., 8171., 7531., 5951., 4041., 1937.,  625.,\n",
       "         154.]),\n",
       " array([-0.07303758,  0.0342662 ,  0.14156998,  0.24887377,  0.35617755,\n",
       "         0.46348133,  0.57078511,  0.67808889,  0.78539267,  0.89269646,\n",
       "         1.00000024]),\n",
       " <BarContainer object of 10 artists>)"
      ]
     },
     "execution_count": 44,
     "metadata": {},
     "output_type": "execute_result"
    },
    {
     "data": {
      "image/png": "[encoded data removed]",
      "text/plain": [
       "<Figure size 432x288 with 1 Axes>"
      ]
     },
     "metadata": {
      "needs_background": "light"
     },
     "output_type": "display_data"
    }
   ],
   "source": [
    "plt.hist(distToDist, bins=10)"
   ]
  },
  {
   "cell_type": "markdown",
   "id": "1d2b079f",
   "metadata": {},
   "source": [
    "## Old code"
   ]
  },
  {
   "cell_type": "code",
   "execution_count": 7,
   "id": "9339f45b",
   "metadata": {},
   "outputs": [],
   "source": [
    "def get_similarities(sample):\n",
    "    if len(sample[\"correct_answer\"].split(\" \")) > 1:\n",
    "        return {\n",
    "            \"correct_to_distractor\": [None],\n",
    "            \"distractor_to_distractor\": [None],\n",
    "        }\n",
    "    try:\n",
    "        return {\n",
    "            \"correct_to_distractor\": [\n",
    "                fasttext.similarity(sample[\"correct_answer\"], sample[distractor])\n",
    "                for distractor in [\"distractor1\", \"distractor2\", \"distractor3\"]\n",
    "            ],\n",
    "            \"distractor_to_distractor\": [\n",
    "                fasttext.similarity(sample[\"distractor\" + str(a)], sample[\"distractor\" + str(b)])\n",
    "                for a, b in [(1, 2), (1, 3), (2, 3)]\n",
    "            ],\n",
    "        }\n",
    "    except KeyError:\n",
    "        return {\n",
    "            \"correct_to_distractor\": [None],\n",
    "            \"distractor_to_distractor\": [None],\n",
    "        }"
   ]
  },
  {
   "cell_type": "markdown",
   "id": "6db83c11",
   "metadata": {},
   "source": [
    "### Finding bad samples"
   ]
  },
  {
   "cell_type": "code",
   "execution_count": null,
   "id": "e8a9167f",
   "metadata": {},
   "outputs": [],
   "source": [
    "np.argmax(npAnsToDist)\n",
    "train[1481]"
   ]
  }
 ],
 "metadata": {
  "kernelspec": {
   "display_name": "Python 3",
   "language": "python",
   "name": "python3"
  },
  "language_info": {
   "codemirror_mode": {
    "name": "ipython",
    "version": 3
   },
   "file_extension": ".py",
   "mimetype": "text/x-python",
   "name": "python",
   "nbconvert_exporter": "python",
   "pygments_lexer": "ipython3",
   "version": "3.8.10"
  }
 },
 "nbformat": 4,
 "nbformat_minor": 5
}
